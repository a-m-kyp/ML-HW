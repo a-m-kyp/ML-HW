{
 "cells": [
  {
   "cell_type": "code",
   "execution_count": null,
   "metadata": {},
   "outputs": [],
   "source": [
    "import itertools\n",
    "import numpy as np\n",
    "import pandas as pd\n",
    "import matplotlib.pyplot as plt\n",
    "import matplotlib.gridspec as gridspec\n",
    "\n",
    "from sklearn import datasets, metrics\n",
    "from sklearn.naive_bayes import GaussianNB\n",
    "from sklearn.model_selection import train_test_split\n",
    "\n",
    "from mlxtend.plotting import plot_decision_regions\n",
    "\n",
    "load_iris = datasets.load_iris()\n",
    "make_blobs = datasets.make_blobs()"
   ]
  }
 ],
 "metadata": {
  "interpreter": {
   "hash": "74e8ec9c84b340f4de24eed72001e08faf7103697f715d0f05647d14de0826d0"
  },
  "kernelspec": {
   "display_name": "Python 3.9.7 64-bit ('RT-Academy': conda)",
   "language": "python",
   "name": "python3"
  },
  "language_info": {
   "codemirror_mode": {
    "name": "ipython",
    "version": 3
   },
   "file_extension": ".py",
   "mimetype": "text/x-python",
   "name": "python",
   "nbconvert_exporter": "python",
   "pygments_lexer": "ipython3",
   "version": "3.9.9"
  },
  "orig_nbformat": 4
 },
 "nbformat": 4,
 "nbformat_minor": 2
}
