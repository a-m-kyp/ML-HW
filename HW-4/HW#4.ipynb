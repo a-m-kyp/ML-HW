{
 "cells": [
  {
   "cell_type": "code",
   "execution_count": null,
   "metadata": {},
   "outputs": [],
   "source": [
    "import numpy as np\n",
    "import pandas as pd"
   ]
  },
  {
   "cell_type": "markdown",
   "metadata": {},
   "source": [
    "**1. Input a set of training examples**\n",
    "\n",
    "**2. For each training example $x$:** $\\text{Set the correspoinding input activation}$ $x^{x,1}$ $\\text{, and perform the following steps:}$\n",
    "-   **Feedforward:** $\\text{For each}$ $l = 2,3, ..., L$ $\\text{compute}$ $z^{x,l} = w^{l}a^{x,l-1} + b^{l}$ and $a^{x,l} = \\sigma(z^{x,l})$\n",
    "\n",
    "-   **Output error $\\delta^{x,L}$:** $\\text{Compute the vector}$ $\\delta^{x,L} = \\nabla_a C_x \\odot \\sigma'(z^{x,L})$\n",
    "\n",
    "-   **Backpropagate the error**: $\\text{For each}$ $l = L -1, L-2, ..., 2$ $\\text{compute}$ $\\delta^{x,l} = ((w^{l+1})^T \\delta^{x,l+1}) \\odot \\sigma'(z^{x,l})$\n",
    "\n",
    "**3.Gradient descent:** $\\text{For each}$ $l = L, L-1, ..., 2$  $\\text{update the weights according to the rule}$ \n",
    "$w^l \\rightarrow\n",
    "w^l-\\frac{\\eta}{m} \\sum_x \\delta^{x,l} (a^{x,l-1})^T,$\n",
    "$\\text{and the biases according to the rule}$ $b^l \\rightarrow\n",
    "b^l-\\frac{\\eta}{m} \\sum_x \\delta^{x,l}.$"
   ]
  }
 ],
 "metadata": {
  "interpreter": {
   "hash": "74e8ec9c84b340f4de24eed72001e08faf7103697f715d0f05647d14de0826d0"
  },
  "kernelspec": {
   "display_name": "Python 3.9.7 64-bit ('RT-Academy': conda)",
   "language": "python",
   "name": "python3"
  },
  "language_info": {
   "codemirror_mode": {
    "name": "ipython",
    "version": 3
   },
   "file_extension": ".py",
   "mimetype": "text/x-python",
   "name": "python",
   "nbconvert_exporter": "python",
   "pygments_lexer": "ipython3",
   "version": "3.9.7"
  },
  "orig_nbformat": 4
 },
 "nbformat": 4,
 "nbformat_minor": 2
}
