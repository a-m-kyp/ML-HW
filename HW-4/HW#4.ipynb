{
 "cells": [],
 "metadata": {
  "interpreter": {
   "hash": "74e8ec9c84b340f4de24eed72001e08faf7103697f715d0f05647d14de0826d0"
  },
  "kernelspec": {
   "display_name": "Python 3.9.7 64-bit ('RT-Academy': conda)",
   "language": "python",
   "name": "python3"
  },
  "language_info": {
   "codemirror_mode": {
    "name": "ipython",
    "version": 3
   },
   "file_extension": ".py",
   "mimetype": "text/x-python",
   "name": "python",
   "nbconvert_exporter": "python",
   "pygments_lexer": "ipython3",
   "version": "3.9.9"
  },
  "orig_nbformat": 4
 },
 "nbformat": 4,
 "nbformat_minor": 2
}
