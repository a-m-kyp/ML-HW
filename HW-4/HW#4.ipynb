{
 "cells": [
  {
   "cell_type": "code",
   "execution_count": null,
   "metadata": {},
   "outputs": [],
   "source": [
    "import numpy as np\n",
    "import pandas as pd"
   ]
  },
  {
   "cell_type": "markdown",
   "metadata": {},
   "source": [
    "**1. Input a set of training examples**\n",
    "\n",
    "**2. For each training example $x$:** Set the correspoinding input activation $x^{x,1}$, and perform the following steps:\n",
    "-   **Feedforward:** For each $l = 2,3, ..., L$ compute $z^{x,l} = w^{l}a^{x,l-1} + b^{l}$ and $a^{x,l} = \\sigma(z^{x,l})$\n",
    "\n",
    "-   **Output error $\\delta^{x,L}$:** Compute the vector $\\delta^{x,L} = \\nabla_a C_x \\odot \\sigma'(z^{x,L})$\n",
    "\n",
    "-   **Backpropagate the error**: For each $l = L -1, L-2, ..., 2$ compute $\\delta^{x,l} = ((w^{l+1})^T \\delta^{x,l+1}) \\odot \\sigma'(z^{x,l})$\n",
    "\n",
    "**3.** $\\text{Gradient descent}:$ $\\text{For each}$ $l = L, L-1, ..., 2$  $\\text{update the weights according to the rule}$ \n",
    "$w^l \\rightarrow\n",
    "w^l-\\frac{\\eta}{m} \\sum_x \\delta^{x,l} (a^{x,l-1})^T,$\n",
    "$\\text{and the biases according to the rule}$ $b^l \\rightarrow\n",
    "b^l-\\frac{\\eta}{m} \\sum_x \\delta^{x,l}.$"
   ]
  },
  {
   "cell_type": "code",
   "execution_count": 1,
   "metadata": {},
   "outputs": [],
   "source": []
  },
  {
   "cell_type": "code",
   "execution_count": 1,
   "metadata": {},
   "outputs": [
    {
     "name": "stdout",
     "output_type": "stream",
     "text": [
      "Found 1 CUDA devices\n",
      "id 0    b'NVIDIA GeForce MX250'                              [SUPPORTED]\n",
      "                      Compute Capability: 6.1\n",
      "                           PCI Device ID: 0\n",
      "                              PCI Bus ID: 2\n",
      "                                Watchdog: Disabled\n",
      "                            Compute Mode: WDDM\n",
      "             FP32/FP64 Performance Ratio: 32\n",
      "Summary:\n",
      "\t1/1 devices are supported\n"
     ]
    },
    {
     "data": {
      "text/plain": [
       "True"
      ]
     },
     "execution_count": 1,
     "metadata": {},
     "output_type": "execute_result"
    }
   ],
   "source": [
    "import cupy as cp\n",
    "import numpy as np\n",
    "from numba import cuda\n",
    "cuda.detect()"
   ]
  },
  {
   "cell_type": "code",
   "execution_count": 5,
   "metadata": {},
   "outputs": [
    {
     "name": "stdout",
     "output_type": "stream",
     "text": [
      "319 ns ± 2.58 ns per loop (mean ± std. dev. of 7 runs, 1000000 loops each)\n"
     ]
    }
   ],
   "source": [
    "array = np.random.randint(0,255, size=(4000,4000))\n",
    "# array_gpu = cp.asarray(array)\n",
    "\n",
    "# call timeit inline function\n",
    "# %timeit cp.asarray(array)\n",
    "%timeit np.asarray(array)\n"
   ]
  }
 ],
 "metadata": {
  "interpreter": {
   "hash": "74e8ec9c84b340f4de24eed72001e08faf7103697f715d0f05647d14de0826d0"
  },
  "kernelspec": {
   "display_name": "Python 3.9.7 64-bit ('RT-Academy': conda)",
   "language": "python",
   "name": "python3"
  },
  "language_info": {
   "codemirror_mode": {
    "name": "ipython",
    "version": 3
   },
   "file_extension": ".py",
   "mimetype": "text/x-python",
   "name": "python",
   "nbconvert_exporter": "python",
   "pygments_lexer": "ipython3",
   "version": "3.9.7"
  },
  "orig_nbformat": 4
 },
 "nbformat": 4,
 "nbformat_minor": 2
}
