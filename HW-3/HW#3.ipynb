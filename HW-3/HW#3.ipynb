{
 "cells": [
  {
   "cell_type": "code",
   "execution_count": 1,
   "metadata": {},
   "outputs": [],
   "source": [
    "import numpy as np\n",
    "import pandas as pd\n",
    "import seaborn as sns\n",
    "import matplotlib.pyplot as plt\n",
    "import plotly.express as px\n",
    "\n",
    "from sklearn.model_selection import train_test_split\n",
    "from sklearn.svm import SVC\n",
    "from sklearn.metrics import accuracy_score"
   ]
  },
  {
   "cell_type": "markdown",
   "metadata": {},
   "source": [
    "#### ***Linear Kernel***\n",
    "$$ \\text{Kernel}(x,y) = x^T y $$\n",
    "\n",
    "$$ \\lt f(x), f(y) \\gt $$\n",
    "\n",
    "#### ***Polynomial kernel***\n",
    "$$ K(x, y) = (x^{T}y + c)^{d} $$\n",
    "$x \\text{ is } (x_{1} \\text{ and } x_{2}) \\text{ features}$\n",
    "$$ \\\\ $$ \n",
    "$y \\text{ is } (x_{1} \\text{ and } x_{2}) \\text{ features}$\n",
    "$$ \\\\ $$\n",
    "$d \\text{ is number of wights in problem}$\n",
    "\n",
    "#### ***Guassian kernel***  - ***Radial basis function (rbf) kernel***\n",
    "$$ K(x, y) = \\exp \\left(-{\\frac {\\|\\mathbf {x} -\\mathbf {y} \\|^{2}}{2\\sigma ^{2}}}\\right) $$\n",
    "\n",
    "\n",
    "####  ***Sigmoid kernel***\n",
    "$$ K(x, y) = \\sigma \\left( \\frac {x^{T}y}{\\|\\mathbf {x} -\\mathbf {y} \\|} \\right) $$\n",
    "\n",
    " \n",
    "####  ***Laplas Kernel***\n",
    "$$ K(x, y) = \\frac {1}{\\|\\mathbf {x} - \\mathbf {y} \\|} $$\n"
   ]
  },
  {
   "cell_type": "code",
   "execution_count": 11,
   "metadata": {},
   "outputs": [
    {
     "name": "stdout",
     "output_type": "stream",
     "text": [
      "       X1      X2  Y  X1_Squared  X2_Squared    X1_*_X2\n",
      "0  1.9643  4.5957  1    3.858474   21.120458   9.027334\n",
      "1  2.2753  3.8589  1    5.176990   14.891109   8.780155\n",
      "2  2.9781  4.5651  1    8.869080   20.840138  13.595324\n",
      "3  2.9320  3.5519  1    8.596624   12.615994  10.414171\n",
      "4  3.5772  2.8560  1   12.796360    8.156736  10.216483\n"
     ]
    },
    {
     "data": {
      "application/vnd.plotly.v1+json": {
       "config": {
        "plotlyServerURL": "https://plot.ly"
       },
       "data": [
        {
         "hovertemplate": "X1=%{x}<br>X2=%{y}<br>X1_*_X2=%{z}<br>Y=%{marker.color}<extra></extra>",
         "legendgroup": "",
         "marker": {
          "color": [
           1,
           1,
           1,
           1,
           1,
           1,
           1,
           1,
           1,
           1,
           1,
           1,
           1,
           1,
           1,
           1,
           1,
           1,
           1,
           1,
           0,
           0,
           0,
           0,
           0,
           0,
           0,
           0,
           0,
           0,
           0,
           0,
           0,
           0,
           0,
           0,
           0,
           0,
           0,
           0,
           0,
           0,
           0,
           0,
           0,
           0,
           0,
           0,
           0,
           0,
           1
          ],
          "coloraxis": "coloraxis",
          "symbol": "circle"
         },
         "mode": "markers",
         "name": "",
         "scene": "scene",
         "showlegend": false,
         "type": "scatter3d",
         "x": [
          1.9643,
          2.2753,
          2.9781,
          2.932,
          3.5772,
          4.015,
          3.3814,
          3.9113,
          2.7822,
          2.5518,
          3.3698,
          3.1048,
          1.9182,
          2.2638,
          2.6555,
          3.1855,
          3.6579,
          3.9113,
          3.6002,
          3.0357,
          1.5841,
          2.0103,
          1.9527,
          2.2753,
          2.3099,
          2.8283,
          3.0473,
          2.4827,
          2.5057,
          1.8721,
          2.0103,
          1.2269,
          1.8951,
          1.561,
          1.5495,
          1.6878,
          1.4919,
          0.962,
          1.1693,
          0.8122,
          0.9735,
          1.25,
          1.3191,
          2.2292,
          2.4482,
          2.7938,
          2.091,
          2.5403,
          0.9044,
          0.76615,
          0.086405
         ],
         "y": [
          4.5957,
          3.8589,
          4.5651,
          3.5519,
          2.856,
          3.1937,
          3.4291,
          4.1761,
          4.0431,
          4.6162,
          3.9101,
          3.0709,
          4.0534,
          4.3706,
          3.5008,
          4.2888,
          3.8692,
          3.4291,
          3.1221,
          3.3165,
          3.3575,
          3.2039,
          2.7843,
          2.7127,
          2.9584,
          2.6309,
          2.2931,
          2.0373,
          2.3853,
          2.0577,
          2.3546,
          2.3239,
          2.9174,
          3.0709,
          2.6923,
          2.4057,
          2.0271,
          2.682,
          2.9276,
          2.9992,
          3.3881,
          3.1937,
          3.5109,
          2.201,
          2.6411,
          1.9656,
          1.6177,
          2.8867,
          3.0198,
          2.5899,
          4.1045
         ],
         "z": [
          9.02733351,
          8.78015517,
          13.59532431,
          10.414170799999999,
          10.216483199999999,
          12.8227055,
          11.59515874,
          16.33397993,
          11.24871282,
          11.779619160000001,
          13.17625498,
          9.53453032,
          7.77523188,
          9.894164279999998,
          9.2963744,
          13.661972400000002,
          14.15314668,
          13.412238830000001,
          11.24018442,
          10.06789905,
          5.31861575,
          6.44080017,
          5.436902610000001,
          6.17220631,
          6.83360816,
          7.4409744700000005,
          6.98776363,
          5.0580047100000005,
          5.97684621,
          3.8522201700000003,
          4.73345238,
          2.8511929100000004,
          5.528764740000001,
          4.7936749,
          4.17171885,
          4.06034046,
          3.02423049,
          2.580084,
          3.42324268,
          2.4359502400000004,
          3.29831535,
          3.992125,
          4.63122819,
          4.9064692,
          6.465941019999999,
          5.49149328,
          3.3826107000000003,
          7.3330840099999985,
          2.73110712,
          1.9842518850000002,
          0.3546493225
         ]
        }
       ],
       "layout": {
        "coloraxis": {
         "colorbar": {
          "title": {
           "text": "Y"
          }
         },
         "colorscale": [
          [
           0,
           "#0d0887"
          ],
          [
           0.1111111111111111,
           "#46039f"
          ],
          [
           0.2222222222222222,
           "#7201a8"
          ],
          [
           0.3333333333333333,
           "#9c179e"
          ],
          [
           0.4444444444444444,
           "#bd3786"
          ],
          [
           0.5555555555555556,
           "#d8576b"
          ],
          [
           0.6666666666666666,
           "#ed7953"
          ],
          [
           0.7777777777777778,
           "#fb9f3a"
          ],
          [
           0.8888888888888888,
           "#fdca26"
          ],
          [
           1,
           "#f0f921"
          ]
         ]
        },
        "legend": {
         "tracegroupgap": 0
        },
        "margin": {
         "t": 60
        },
        "scene": {
         "domain": {
          "x": [
           0,
           1
          ],
          "y": [
           0,
           1
          ]
         },
         "xaxis": {
          "title": {
           "text": "X1"
          }
         },
         "yaxis": {
          "title": {
           "text": "X2"
          }
         },
         "zaxis": {
          "title": {
           "text": "X1_*_X2"
          }
         }
        },
        "template": {
         "data": {
          "bar": [
           {
            "error_x": {
             "color": "#2a3f5f"
            },
            "error_y": {
             "color": "#2a3f5f"
            },
            "marker": {
             "line": {
              "color": "#E5ECF6",
              "width": 0.5
             },
             "pattern": {
              "fillmode": "overlay",
              "size": 10,
              "solidity": 0.2
             }
            },
            "type": "bar"
           }
          ],
          "barpolar": [
           {
            "marker": {
             "line": {
              "color": "#E5ECF6",
              "width": 0.5
             },
             "pattern": {
              "fillmode": "overlay",
              "size": 10,
              "solidity": 0.2
             }
            },
            "type": "barpolar"
           }
          ],
          "carpet": [
           {
            "aaxis": {
             "endlinecolor": "#2a3f5f",
             "gridcolor": "white",
             "linecolor": "white",
             "minorgridcolor": "white",
             "startlinecolor": "#2a3f5f"
            },
            "baxis": {
             "endlinecolor": "#2a3f5f",
             "gridcolor": "white",
             "linecolor": "white",
             "minorgridcolor": "white",
             "startlinecolor": "#2a3f5f"
            },
            "type": "carpet"
           }
          ],
          "choropleth": [
           {
            "colorbar": {
             "outlinewidth": 0,
             "ticks": ""
            },
            "type": "choropleth"
           }
          ],
          "contour": [
           {
            "colorbar": {
             "outlinewidth": 0,
             "ticks": ""
            },
            "colorscale": [
             [
              0,
              "#0d0887"
             ],
             [
              0.1111111111111111,
              "#46039f"
             ],
             [
              0.2222222222222222,
              "#7201a8"
             ],
             [
              0.3333333333333333,
              "#9c179e"
             ],
             [
              0.4444444444444444,
              "#bd3786"
             ],
             [
              0.5555555555555556,
              "#d8576b"
             ],
             [
              0.6666666666666666,
              "#ed7953"
             ],
             [
              0.7777777777777778,
              "#fb9f3a"
             ],
             [
              0.8888888888888888,
              "#fdca26"
             ],
             [
              1,
              "#f0f921"
             ]
            ],
            "type": "contour"
           }
          ],
          "contourcarpet": [
           {
            "colorbar": {
             "outlinewidth": 0,
             "ticks": ""
            },
            "type": "contourcarpet"
           }
          ],
          "heatmap": [
           {
            "colorbar": {
             "outlinewidth": 0,
             "ticks": ""
            },
            "colorscale": [
             [
              0,
              "#0d0887"
             ],
             [
              0.1111111111111111,
              "#46039f"
             ],
             [
              0.2222222222222222,
              "#7201a8"
             ],
             [
              0.3333333333333333,
              "#9c179e"
             ],
             [
              0.4444444444444444,
              "#bd3786"
             ],
             [
              0.5555555555555556,
              "#d8576b"
             ],
             [
              0.6666666666666666,
              "#ed7953"
             ],
             [
              0.7777777777777778,
              "#fb9f3a"
             ],
             [
              0.8888888888888888,
              "#fdca26"
             ],
             [
              1,
              "#f0f921"
             ]
            ],
            "type": "heatmap"
           }
          ],
          "heatmapgl": [
           {
            "colorbar": {
             "outlinewidth": 0,
             "ticks": ""
            },
            "colorscale": [
             [
              0,
              "#0d0887"
             ],
             [
              0.1111111111111111,
              "#46039f"
             ],
             [
              0.2222222222222222,
              "#7201a8"
             ],
             [
              0.3333333333333333,
              "#9c179e"
             ],
             [
              0.4444444444444444,
              "#bd3786"
             ],
             [
              0.5555555555555556,
              "#d8576b"
             ],
             [
              0.6666666666666666,
              "#ed7953"
             ],
             [
              0.7777777777777778,
              "#fb9f3a"
             ],
             [
              0.8888888888888888,
              "#fdca26"
             ],
             [
              1,
              "#f0f921"
             ]
            ],
            "type": "heatmapgl"
           }
          ],
          "histogram": [
           {
            "marker": {
             "pattern": {
              "fillmode": "overlay",
              "size": 10,
              "solidity": 0.2
             }
            },
            "type": "histogram"
           }
          ],
          "histogram2d": [
           {
            "colorbar": {
             "outlinewidth": 0,
             "ticks": ""
            },
            "colorscale": [
             [
              0,
              "#0d0887"
             ],
             [
              0.1111111111111111,
              "#46039f"
             ],
             [
              0.2222222222222222,
              "#7201a8"
             ],
             [
              0.3333333333333333,
              "#9c179e"
             ],
             [
              0.4444444444444444,
              "#bd3786"
             ],
             [
              0.5555555555555556,
              "#d8576b"
             ],
             [
              0.6666666666666666,
              "#ed7953"
             ],
             [
              0.7777777777777778,
              "#fb9f3a"
             ],
             [
              0.8888888888888888,
              "#fdca26"
             ],
             [
              1,
              "#f0f921"
             ]
            ],
            "type": "histogram2d"
           }
          ],
          "histogram2dcontour": [
           {
            "colorbar": {
             "outlinewidth": 0,
             "ticks": ""
            },
            "colorscale": [
             [
              0,
              "#0d0887"
             ],
             [
              0.1111111111111111,
              "#46039f"
             ],
             [
              0.2222222222222222,
              "#7201a8"
             ],
             [
              0.3333333333333333,
              "#9c179e"
             ],
             [
              0.4444444444444444,
              "#bd3786"
             ],
             [
              0.5555555555555556,
              "#d8576b"
             ],
             [
              0.6666666666666666,
              "#ed7953"
             ],
             [
              0.7777777777777778,
              "#fb9f3a"
             ],
             [
              0.8888888888888888,
              "#fdca26"
             ],
             [
              1,
              "#f0f921"
             ]
            ],
            "type": "histogram2dcontour"
           }
          ],
          "mesh3d": [
           {
            "colorbar": {
             "outlinewidth": 0,
             "ticks": ""
            },
            "type": "mesh3d"
           }
          ],
          "parcoords": [
           {
            "line": {
             "colorbar": {
              "outlinewidth": 0,
              "ticks": ""
             }
            },
            "type": "parcoords"
           }
          ],
          "pie": [
           {
            "automargin": true,
            "type": "pie"
           }
          ],
          "scatter": [
           {
            "marker": {
             "colorbar": {
              "outlinewidth": 0,
              "ticks": ""
             }
            },
            "type": "scatter"
           }
          ],
          "scatter3d": [
           {
            "line": {
             "colorbar": {
              "outlinewidth": 0,
              "ticks": ""
             }
            },
            "marker": {
             "colorbar": {
              "outlinewidth": 0,
              "ticks": ""
             }
            },
            "type": "scatter3d"
           }
          ],
          "scattercarpet": [
           {
            "marker": {
             "colorbar": {
              "outlinewidth": 0,
              "ticks": ""
             }
            },
            "type": "scattercarpet"
           }
          ],
          "scattergeo": [
           {
            "marker": {
             "colorbar": {
              "outlinewidth": 0,
              "ticks": ""
             }
            },
            "type": "scattergeo"
           }
          ],
          "scattergl": [
           {
            "marker": {
             "colorbar": {
              "outlinewidth": 0,
              "ticks": ""
             }
            },
            "type": "scattergl"
           }
          ],
          "scattermapbox": [
           {
            "marker": {
             "colorbar": {
              "outlinewidth": 0,
              "ticks": ""
             }
            },
            "type": "scattermapbox"
           }
          ],
          "scatterpolar": [
           {
            "marker": {
             "colorbar": {
              "outlinewidth": 0,
              "ticks": ""
             }
            },
            "type": "scatterpolar"
           }
          ],
          "scatterpolargl": [
           {
            "marker": {
             "colorbar": {
              "outlinewidth": 0,
              "ticks": ""
             }
            },
            "type": "scatterpolargl"
           }
          ],
          "scatterternary": [
           {
            "marker": {
             "colorbar": {
              "outlinewidth": 0,
              "ticks": ""
             }
            },
            "type": "scatterternary"
           }
          ],
          "surface": [
           {
            "colorbar": {
             "outlinewidth": 0,
             "ticks": ""
            },
            "colorscale": [
             [
              0,
              "#0d0887"
             ],
             [
              0.1111111111111111,
              "#46039f"
             ],
             [
              0.2222222222222222,
              "#7201a8"
             ],
             [
              0.3333333333333333,
              "#9c179e"
             ],
             [
              0.4444444444444444,
              "#bd3786"
             ],
             [
              0.5555555555555556,
              "#d8576b"
             ],
             [
              0.6666666666666666,
              "#ed7953"
             ],
             [
              0.7777777777777778,
              "#fb9f3a"
             ],
             [
              0.8888888888888888,
              "#fdca26"
             ],
             [
              1,
              "#f0f921"
             ]
            ],
            "type": "surface"
           }
          ],
          "table": [
           {
            "cells": {
             "fill": {
              "color": "#EBF0F8"
             },
             "line": {
              "color": "white"
             }
            },
            "header": {
             "fill": {
              "color": "#C8D4E3"
             },
             "line": {
              "color": "white"
             }
            },
            "type": "table"
           }
          ]
         },
         "layout": {
          "annotationdefaults": {
           "arrowcolor": "#2a3f5f",
           "arrowhead": 0,
           "arrowwidth": 1
          },
          "autotypenumbers": "strict",
          "coloraxis": {
           "colorbar": {
            "outlinewidth": 0,
            "ticks": ""
           }
          },
          "colorscale": {
           "diverging": [
            [
             0,
             "#8e0152"
            ],
            [
             0.1,
             "#c51b7d"
            ],
            [
             0.2,
             "#de77ae"
            ],
            [
             0.3,
             "#f1b6da"
            ],
            [
             0.4,
             "#fde0ef"
            ],
            [
             0.5,
             "#f7f7f7"
            ],
            [
             0.6,
             "#e6f5d0"
            ],
            [
             0.7,
             "#b8e186"
            ],
            [
             0.8,
             "#7fbc41"
            ],
            [
             0.9,
             "#4d9221"
            ],
            [
             1,
             "#276419"
            ]
           ],
           "sequential": [
            [
             0,
             "#0d0887"
            ],
            [
             0.1111111111111111,
             "#46039f"
            ],
            [
             0.2222222222222222,
             "#7201a8"
            ],
            [
             0.3333333333333333,
             "#9c179e"
            ],
            [
             0.4444444444444444,
             "#bd3786"
            ],
            [
             0.5555555555555556,
             "#d8576b"
            ],
            [
             0.6666666666666666,
             "#ed7953"
            ],
            [
             0.7777777777777778,
             "#fb9f3a"
            ],
            [
             0.8888888888888888,
             "#fdca26"
            ],
            [
             1,
             "#f0f921"
            ]
           ],
           "sequentialminus": [
            [
             0,
             "#0d0887"
            ],
            [
             0.1111111111111111,
             "#46039f"
            ],
            [
             0.2222222222222222,
             "#7201a8"
            ],
            [
             0.3333333333333333,
             "#9c179e"
            ],
            [
             0.4444444444444444,
             "#bd3786"
            ],
            [
             0.5555555555555556,
             "#d8576b"
            ],
            [
             0.6666666666666666,
             "#ed7953"
            ],
            [
             0.7777777777777778,
             "#fb9f3a"
            ],
            [
             0.8888888888888888,
             "#fdca26"
            ],
            [
             1,
             "#f0f921"
            ]
           ]
          },
          "colorway": [
           "#636efa",
           "#EF553B",
           "#00cc96",
           "#ab63fa",
           "#FFA15A",
           "#19d3f3",
           "#FF6692",
           "#B6E880",
           "#FF97FF",
           "#FECB52"
          ],
          "font": {
           "color": "#2a3f5f"
          },
          "geo": {
           "bgcolor": "white",
           "lakecolor": "white",
           "landcolor": "#E5ECF6",
           "showlakes": true,
           "showland": true,
           "subunitcolor": "white"
          },
          "hoverlabel": {
           "align": "left"
          },
          "hovermode": "closest",
          "mapbox": {
           "style": "light"
          },
          "paper_bgcolor": "white",
          "plot_bgcolor": "#E5ECF6",
          "polar": {
           "angularaxis": {
            "gridcolor": "white",
            "linecolor": "white",
            "ticks": ""
           },
           "bgcolor": "#E5ECF6",
           "radialaxis": {
            "gridcolor": "white",
            "linecolor": "white",
            "ticks": ""
           }
          },
          "scene": {
           "xaxis": {
            "backgroundcolor": "#E5ECF6",
            "gridcolor": "white",
            "gridwidth": 2,
            "linecolor": "white",
            "showbackground": true,
            "ticks": "",
            "zerolinecolor": "white"
           },
           "yaxis": {
            "backgroundcolor": "#E5ECF6",
            "gridcolor": "white",
            "gridwidth": 2,
            "linecolor": "white",
            "showbackground": true,
            "ticks": "",
            "zerolinecolor": "white"
           },
           "zaxis": {
            "backgroundcolor": "#E5ECF6",
            "gridcolor": "white",
            "gridwidth": 2,
            "linecolor": "white",
            "showbackground": true,
            "ticks": "",
            "zerolinecolor": "white"
           }
          },
          "shapedefaults": {
           "line": {
            "color": "#2a3f5f"
           }
          },
          "ternary": {
           "aaxis": {
            "gridcolor": "white",
            "linecolor": "white",
            "ticks": ""
           },
           "baxis": {
            "gridcolor": "white",
            "linecolor": "white",
            "ticks": ""
           },
           "bgcolor": "#E5ECF6",
           "caxis": {
            "gridcolor": "white",
            "linecolor": "white",
            "ticks": ""
           }
          },
          "title": {
           "x": 0.05
          },
          "xaxis": {
           "automargin": true,
           "gridcolor": "white",
           "linecolor": "white",
           "ticks": "",
           "title": {
            "standoff": 15
           },
           "zerolinecolor": "white",
           "zerolinewidth": 2
          },
          "yaxis": {
           "automargin": true,
           "gridcolor": "white",
           "linecolor": "white",
           "ticks": "",
           "title": {
            "standoff": 15
           },
           "zerolinecolor": "white",
           "zerolinewidth": 2
          }
         }
        }
       }
      }
     },
     "metadata": {},
     "output_type": "display_data"
    },
    {
     "name": "stdout",
     "output_type": "stream",
     "text": [
      "         X1       X2  Y  X1_Squared  X2_Squared   X1_*_X2\n",
      "0  0.107140  0.60307  1    0.011479    0.363693  0.064613\n",
      "1  0.093318  0.64985  1    0.008708    0.422305  0.060643\n",
      "2  0.097926  0.70541  1    0.009590    0.497603  0.069078\n",
      "3  0.155530  0.78436  1    0.024190    0.615221  0.121992\n",
      "4  0.210830  0.86623  1    0.044449    0.750354  0.182627\n"
     ]
    },
    {
     "data": {
      "application/vnd.plotly.v1+json": {
       "config": {
        "plotlyServerURL": "https://plot.ly"
       },
       "data": [
        {
         "hovertemplate": "X1=%{x}<br>X2=%{y}<br>X1_*_X2=%{z}<br>Y=%{marker.color}<extra></extra>",
         "legendgroup": "",
         "marker": {
          "color": [
           1,
           1,
           1,
           1,
           1,
           1,
           1,
           1,
           1,
           1,
           1,
           1,
           1,
           1,
           1,
           1,
           1,
           1,
           1,
           1,
           1,
           1,
           1,
           1,
           1,
           1,
           1,
           1,
           1,
           1,
           1,
           1,
           1,
           1,
           1,
           1,
           1,
           1,
           1,
           1,
           1,
           1,
           1,
           1,
           1,
           1,
           1,
           1,
           1,
           1,
           1,
           1,
           1,
           1,
           1,
           1,
           1,
           1,
           1,
           1,
           1,
           1,
           1,
           1,
           1,
           1,
           1,
           1,
           1,
           1,
           1,
           1,
           1,
           1,
           1,
           1,
           1,
           1,
           1,
           1,
           1,
           1,
           1,
           1,
           1,
           1,
           1,
           1,
           1,
           1,
           1,
           1,
           1,
           1,
           1,
           1,
           1,
           1,
           1,
           1,
           1,
           1,
           1,
           1,
           1,
           1,
           1,
           1,
           1,
           1,
           1,
           1,
           1,
           1,
           1,
           1,
           1,
           1,
           1,
           1,
           1,
           1,
           1,
           1,
           1,
           1,
           1,
           1,
           1,
           1,
           1,
           1,
           1,
           1,
           1,
           1,
           1,
           1,
           1,
           1,
           1,
           1,
           1,
           1,
           1,
           1,
           1,
           1,
           1,
           1,
           1,
           1,
           1,
           1,
           1,
           1,
           1,
           1,
           1,
           1,
           1,
           1,
           1,
           1,
           1,
           1,
           1,
           1,
           1,
           1,
           1,
           1,
           1,
           1,
           1,
           1,
           1,
           1,
           1,
           1,
           1,
           1,
           1,
           1,
           1,
           1,
           1,
           1,
           1,
           1,
           1,
           1,
           1,
           0,
           0,
           0,
           0,
           0,
           0,
           0,
           0,
           0,
           0,
           0,
           0,
           0,
           0,
           0,
           0,
           0,
           0,
           0,
           0,
           0,
           0,
           0,
           0,
           0,
           0,
           0,
           0,
           0,
           0,
           0,
           0,
           0,
           0,
           0,
           0,
           0,
           0,
           0,
           0,
           0,
           0,
           0,
           0,
           0,
           0,
           0,
           0,
           0,
           0,
           0,
           0,
           0,
           0,
           0,
           0,
           0,
           0,
           0,
           0,
           0,
           0,
           0,
           0,
           0,
           0,
           0,
           0,
           0,
           0,
           0,
           0,
           0,
           0,
           0,
           0,
           0,
           0,
           0,
           0,
           0,
           0,
           0,
           0,
           0,
           0,
           0,
           0,
           0,
           0,
           0,
           0,
           0,
           0,
           0,
           0,
           0,
           0,
           0,
           0,
           0,
           0,
           0,
           0,
           0,
           0,
           0,
           0,
           0,
           0,
           0,
           0,
           0,
           0,
           0,
           0,
           0,
           0,
           0,
           0,
           0,
           0,
           0,
           0,
           0,
           0,
           0,
           0,
           0,
           0,
           0,
           1,
           1,
           1,
           1,
           1,
           1,
           1,
           1,
           1,
           1,
           1,
           1,
           1,
           1,
           1,
           1,
           1,
           1,
           1,
           1,
           1,
           1,
           1,
           1,
           1,
           1,
           1,
           1,
           1,
           1,
           1,
           1,
           1,
           1,
           1,
           1,
           1,
           1,
           1,
           1,
           1,
           1,
           1,
           1,
           1,
           1,
           1,
           1,
           1,
           1,
           1,
           1,
           1,
           0,
           0,
           0,
           0,
           0,
           0,
           0,
           0,
           0,
           0,
           0,
           0,
           0,
           0,
           0,
           0,
           0,
           0,
           0,
           0,
           0,
           0,
           0,
           0,
           0,
           0,
           0,
           0,
           0,
           1,
           1,
           1,
           1,
           1,
           1,
           1,
           1,
           1,
           1,
           1,
           1,
           1,
           1,
           1,
           1,
           1,
           1,
           1,
           1,
           1,
           1,
           1,
           1,
           1,
           1,
           1,
           1,
           1,
           1,
           1,
           1,
           1,
           1,
           1,
           1,
           1,
           1,
           1,
           1,
           1,
           1,
           1,
           1,
           1,
           1,
           1,
           0,
           0,
           0,
           0,
           0,
           0,
           0,
           0,
           0,
           0,
           0,
           0,
           0,
           0,
           0,
           0,
           0,
           0,
           0,
           0,
           0,
           0,
           0,
           0,
           0,
           0,
           0,
           0,
           0,
           0,
           0,
           0,
           0,
           0,
           0,
           0,
           0,
           0,
           0,
           0,
           0,
           0,
           0,
           0,
           0,
           0,
           0,
           0,
           0,
           0,
           0,
           0,
           0,
           0,
           0,
           0,
           0,
           0,
           0,
           0,
           0,
           0,
           0,
           0,
           1,
           1,
           1,
           1,
           1,
           1,
           1,
           1,
           1,
           1,
           1,
           1,
           1,
           1,
           1,
           1,
           1,
           1,
           1,
           1,
           1,
           1,
           1,
           1,
           1,
           1,
           0,
           0,
           0,
           0,
           0,
           0,
           0,
           0,
           0,
           0,
           0,
           0,
           0,
           0,
           0,
           0,
           0,
           0,
           0,
           0,
           0,
           0,
           0,
           0,
           0,
           0,
           0,
           0,
           0,
           0,
           0,
           0,
           0,
           1,
           1,
           1,
           1,
           1,
           1,
           1,
           1,
           1,
           1,
           1,
           1,
           1,
           1,
           1,
           1,
           1,
           1,
           1,
           1,
           1,
           1,
           1,
           1,
           1,
           1,
           1,
           1,
           1,
           1,
           1,
           1,
           1,
           1,
           1,
           1,
           1,
           1,
           1,
           1,
           1,
           1,
           1,
           1,
           1,
           1,
           0,
           0,
           0,
           0,
           0,
           0,
           0,
           0,
           0,
           0,
           0,
           0,
           0,
           0,
           0,
           0,
           0,
           0,
           0,
           0,
           0,
           0,
           0,
           0,
           0,
           0,
           0,
           0,
           0,
           0,
           0,
           0,
           0,
           0,
           0,
           0,
           0,
           0,
           0,
           0,
           0,
           0,
           0,
           0,
           0,
           0,
           0,
           0,
           0,
           0,
           0,
           0,
           0,
           0,
           0,
           0,
           0,
           0,
           0,
           0,
           0,
           0,
           0,
           0,
           0,
           1,
           1,
           1,
           1,
           1,
           1,
           1,
           1,
           1,
           1,
           1,
           1,
           1,
           1,
           1,
           1,
           1,
           1,
           1,
           1,
           1,
           1,
           1,
           1,
           1,
           1,
           1,
           1,
           1,
           1,
           1,
           1,
           1,
           1,
           1,
           1,
           1,
           1,
           1,
           1,
           1,
           1,
           1,
           1,
           1,
           1,
           1,
           1,
           1,
           1,
           1,
           1,
           1,
           1,
           1,
           1,
           1,
           1,
           1,
           1,
           1,
           1,
           1,
           1,
           1,
           0,
           0,
           0,
           0,
           0,
           0,
           0,
           0,
           0,
           0,
           0,
           0,
           0,
           0,
           0,
           0,
           0,
           0,
           0,
           0,
           0,
           0,
           0,
           0,
           0,
           0,
           0,
           0,
           0,
           0,
           0,
           0,
           0,
           0,
           0,
           0,
           0,
           0,
           0,
           0,
           0,
           0,
           0,
           0,
           0,
           0,
           0,
           0,
           0,
           0,
           0,
           0,
           0,
           0,
           0,
           0,
           0,
           0,
           0,
           0,
           0,
           1,
           1,
           1,
           1,
           1,
           1,
           1,
           1,
           1,
           1,
           1,
           1,
           1,
           1,
           1,
           1,
           1,
           1,
           1,
           1,
           1,
           1,
           1,
           1,
           1,
           1,
           1,
           1,
           1,
           1,
           1,
           1,
           1,
           1,
           1,
           1,
           1,
           1,
           1,
           1,
           1,
           1,
           1,
           1,
           1,
           1,
           1,
           1,
           1,
           1
          ],
          "coloraxis": "coloraxis",
          "symbol": "circle"
         },
         "mode": "markers",
         "name": "",
         "scene": "scene",
         "showlegend": false,
         "type": "scatter3d",
         "x": [
          0.10714,
          0.093318,
          0.097926,
          0.15553,
          0.21083,
          0.32834,
          0.42972,
          0.62097,
          0.75691,
          0.81912,
          0.80991,
          0.75,
          0.77304,
          0.77074,
          0.76613,
          0.77995,
          0.75,
          0.76152,
          0.81452,
          0.81452,
          0.56336,
          0.49424,
          0.48041,
          0.44816,
          0.42512,
          0.45046,
          0.51037,
          0.49885,
          0.35138,
          0.27304,
          0.23387,
          0.21544,
          0.13479,
          0.074885,
          0.058756,
          0.10023,
          0.12097,
          0.13249,
          0.1371,
          0.11636,
          0.10484,
          0.10714,
          0.091014,
          0.067972,
          0.067972,
          0.093318,
          0.16244,
          0.17857,
          0.14401,
          0.10945,
          0.14631,
          0.14862,
          0.16014,
          0.12327,
          0.10484,
          0.081797,
          0.058756,
          0.095622,
          0.14401,
          0.16936,
          0.16475,
          0.11866,
          0.16244,
          0.23617,
          0.27765,
          0.29839,
          0.33756,
          0.34217,
          0.29378,
          0.25922,
          0.2523,
          0.21313,
          0.20392,
          0.1924,
          0.3629,
          0.4182,
          0.42972,
          0.39055,
          0.39055,
          0.4182,
          0.41359,
          0.41129,
          0.45737,
          0.46659,
          0.50806,
          0.52189,
          0.43433,
          0.44816,
          0.46429,
          0.50806,
          0.52419,
          0.56797,
          0.58641,
          0.59101,
          0.62558,
          0.66244,
          0.69009,
          0.68318,
          0.74078,
          0.76613,
          0.71544,
          0.72926,
          0.74539,
          0.73848,
          0.73848,
          0.77995,
          0.8053,
          0.79608,
          0.78226,
          0.76613,
          0.72005,
          0.73848,
          0.74078,
          0.71544,
          0.67627,
          0.6371,
          0.68088,
          0.74078,
          0.75691,
          0.77765,
          0.83295,
          0.77995,
          0.77765,
          0.77074,
          0.67166,
          0.57488,
          0.54493,
          0.50346,
          0.44355,
          0.39055,
          0.33756,
          0.36982,
          0.43664,
          0.53571,
          0.45737,
          0.42281,
          0.40899,
          0.36751,
          0.31452,
          0.33295,
          0.45737,
          0.50806,
          0.4735,
          0.53802,
          0.697,
          0.75,
          0.80069,
          0.82373,
          0.71083,
          0.70161,
          0.6371,
          0.59332,
          0.56336,
          0.54032,
          0.51037,
          0.50115,
          0.48041,
          0.43203,
          0.40438,
          0.36521,
          0.31452,
          0.27765,
          0.26382,
          0.23617,
          0.22235,
          0.1947,
          0.17166,
          0.17627,
          0.18318,
          0.16014,
          0.11175,
          0.08871,
          0.093318,
          0.12558,
          0.16244,
          0.12788,
          0.13479,
          0.18548,
          0.1924,
          0.13249,
          0.10023,
          0.074885,
          0.070277,
          0.093318,
          0.10023,
          0.065668,
          0.081797,
          0.097926,
          0.82143,
          0.8583,
          0.81452,
          0.78917,
          0.79148,
          0.37212,
          0.35138,
          0.3053,
          0.32373,
          0.28917,
          0.27765,
          0.29378,
          0.29839,
          0.31682,
          0.35369,
          0.35369,
          0.3053,
          0.29147,
          0.26152,
          0.26843,
          0.27074,
          0.2477,
          0.25922,
          0.26152,
          0.23387,
          0.22926,
          0.26613,
          0.303,
          0.29378,
          0.26843,
          0.28226,
          0.31221,
          0.34908,
          0.35138,
          0.37903,
          0.42051,
          0.37903,
          0.34677,
          0.33756,
          0.34677,
          0.3606,
          0.31912,
          0.32834,
          0.33525,
          0.3076,
          0.3053,
          0.31912,
          0.33525,
          0.3606,
          0.38825,
          0.40438,
          0.41359,
          0.37442,
          0.36521,
          0.36751,
          0.36982,
          0.34677,
          0.33295,
          0.33295,
          0.35829,
          0.35369,
          0.36751,
          0.39516,
          0.38594,
          0.43894,
          0.42281,
          0.45046,
          0.46429,
          0.4712,
          0.46198,
          0.43664,
          0.40668,
          0.37442,
          0.35829,
          0.36751,
          0.40668,
          0.42281,
          0.48502,
          0.48041,
          0.50806,
          0.51498,
          0.5265,
          0.55876,
          0.57488,
          0.59332,
          0.6417,
          0.67857,
          0.70392,
          0.72696,
          0.73848,
          0.77995,
          0.78917,
          0.78456,
          0.78456,
          0.75,
          0.73848,
          0.72926,
          0.67857,
          0.66475,
          0.59101,
          0.54954,
          0.53111,
          0.49424,
          0.44124,
          0.42742,
          0.39747,
          0.39747,
          0.46659,
          0.50806,
          0.50806,
          0.54724,
          0.5841,
          0.61175,
          0.66936,
          0.63479,
          0.71083,
          0.6924,
          0.7477,
          0.72926,
          0.73618,
          0.74309,
          0.77304,
          0.7477,
          0.76152,
          0.8076,
          0.81221,
          0.83064,
          0.82373,
          0.79378,
          0.77765,
          0.75691,
          0.74078,
          0.72235,
          0.65783,
          0.64401,
          0.59332,
          0.54032,
          0.62327,
          0.65092,
          0.6924,
          0.6394,
          0.54954,
          0.54032,
          0.56567,
          0.63249,
          0.70392,
          0.75,
          0.8053,
          0.83756,
          0.86751,
          0.90438,
          0.95276,
          0.97581,
          0.96889,
          0.92742,
          0.88134,
          0.85138,
          0.8076,
          0.80069,
          0.8606,
          0.90899,
          0.92051,
          0.95507,
          0.96659,
          0.96889,
          0.89746,
          0.85138,
          0.85138,
          0.85599,
          0.82834,
          0.60023,
          0.60023,
          0.48272,
          0.25461,
          0.22696,
          0.16014,
          0.17627,
          0.11175,
          0.074885,
          0.054148,
          0.044931,
          0.11175,
          0.10484,
          0.15323,
          0.19931,
          0.06106,
          0.056452,
          0.074885,
          0.093318,
          0.35369,
          0.30991,
          0.27074,
          0.30069,
          0.39286,
          0.40438,
          0.42051,
          0.44585,
          0.46429,
          0.37442,
          0.42512,
          0.36982,
          0.48041,
          0.42972,
          0.55415,
          0.62097,
          0.61636,
          0.66244,
          0.68318,
          0.6924,
          0.72005,
          0.72696,
          0.68088,
          0.65553,
          0.62097,
          0.59101,
          0.56797,
          0.56797,
          0.56567,
          0.62788,
          0.56336,
          0.61866,
          0.60714,
          0.58871,
          0.57719,
          0.5841,
          0.61175,
          0.62327,
          0.62327,
          0.59793,
          0.55415,
          0.54493,
          0.54493,
          0.57028,
          0.59562,
          0.59793,
          0.63018,
          0.65783,
          0.70392,
          0.70622,
          0.70161,
          0.66475,
          0.64401,
          0.64401,
          0.64401,
          0.6371,
          0.63479,
          0.58871,
          0.55184,
          0.56106,
          0.57719,
          0.55184,
          0.54724,
          0.54724,
          0.59332,
          0.66936,
          0.67396,
          0.66244,
          0.66244,
          0.6417,
          0.66475,
          0.57949,
          0.54493,
          0.54724,
          0.60484,
          0.65092,
          0.38825,
          0.36982,
          0.31221,
          0.31221,
          0.27304,
          0.3053,
          0.31221,
          0.25461,
          0.28917,
          0.27304,
          0.29608,
          0.34447,
          0.36751,
          0.39286,
          0.38825,
          0.40668,
          0.39055,
          0.40207,
          0.35829,
          0.33986,
          0.35138,
          0.3053,
          0.24078,
          0.28226,
          0.48733,
          0.51958,
          0.58641,
          0.63479,
          0.64862,
          0.66475,
          0.69931,
          0.7523,
          0.78456,
          0.803,
          0.83064,
          0.60945,
          0.61175,
          0.57488,
          0.54493,
          0.55876,
          0.58871,
          0.59562,
          0.60254,
          0.57028,
          0.56336,
          0.57719,
          0.60023,
          0.61866,
          0.64631,
          0.6371,
          0.64862,
          0.65092,
          0.66014,
          0.66014,
          0.66936,
          0.63479,
          0.60254,
          0.60484,
          0.61636,
          0.65783,
          0.68088,
          0.697,
          0.70852,
          0.73618,
          0.16475,
          0.15092,
          0.1417,
          0.13479,
          0.12788,
          0.084101,
          0.067972,
          0.12327,
          0.081797,
          0.1371,
          0.1371,
          0.15092,
          0.14862,
          0.21313,
          0.1417,
          0.16936,
          0.077189,
          0.056452,
          0.086405,
          0.070277,
          0.063364,
          0.054148,
          0.051843,
          0.081797,
          0.15323,
          0.20852,
          0.72926,
          0.8053,
          0.82834,
          0.85599,
          0.92742,
          0.97581,
          0.98042,
          0.89977,
          0.87212,
          0.84908,
          0.81452,
          0.78456,
          0.77535,
          0.77535,
          0.74539,
          0.80991,
          0.8583,
          0.8629,
          0.92281,
          0.94124,
          0.98963,
          0.98733,
          0.9182,
          0.84217,
          0.80991,
          0.72696,
          0.69009,
          0.69009,
          0.57949,
          0.4735,
          0.43433,
          0.25,
          0.22465,
          0.18088,
          0.11866,
          0.16475,
          0.17166,
          0.15553,
          0.13249,
          0.12558,
          0.17857,
          0.22235,
          0.22926,
          0.20161,
          0.17396,
          0.1417,
          0.1371,
          0.077189,
          0.074885,
          0.13249,
          0.1924,
          0.074885,
          0.11636,
          0.12558,
          0.091014,
          0.15092,
          0.20392,
          0.26613,
          0.32143,
          0.50576,
          0.48272,
          0.50806,
          0.48502,
          0.47811,
          0.47811,
          0.45968,
          0.45968,
          0.47811,
          0.45968,
          0.46198,
          0.4735,
          0.47581,
          0.44816,
          0.49654,
          0.51498,
          0.47811,
          0.47581,
          0.43664,
          0.46889,
          0.38364,
          0.35369,
          0.36982,
          0.35599,
          0.34447,
          0.34908,
          0.38134,
          0.38134,
          0.37903,
          0.38594,
          0.4159,
          0.41359,
          0.40438,
          0.41129,
          0.40438,
          0.39516,
          0.39747,
          0.40899,
          0.78917,
          0.8076,
          0.8053,
          0.78456,
          0.78226,
          0.83064,
          0.83986,
          0.82373,
          0.83986,
          0.83986,
          0.83295,
          0.84217,
          0.8606,
          0.81221,
          0.79839,
          0.803,
          0.77535,
          0.73618,
          0.78226,
          0.78226,
          0.75922,
          0.74539,
          0.74078,
          0.73387,
          0.69931,
          0.697,
          0.6924,
          0.67627,
          0.65783,
          0.65783,
          0.64401,
          0.64862,
          0.61866,
          0.55876,
          0.55415,
          0.59101,
          0.60945,
          0.62097,
          0.62788,
          0.64401,
          0.66244,
          0.68088,
          0.63249,
          0.58871,
          0.5818,
          0.57028,
          0.55876,
          0.55415,
          0.51498,
          0.51037,
          0.51728,
          0.55415,
          0.55415,
          0.54032,
          0.5288,
          0.50346,
          0.49194,
          0.51728,
          0.5265,
          0.54032,
          0.51728,
          0.49654,
          0.48963,
          0.4735,
          0.48733,
          0.50806,
          0.51498,
          0.45046,
          0.47581,
          0.4735,
          0.45737,
          0.45046,
          0.48733,
          0.53341,
          0.53802,
          0.5288,
          0.51267,
          0.18548,
          0.20852,
          0.19009,
          0.18779,
          0.19009,
          0.19701,
          0.1947,
          0.17627,
          0.14631,
          0.13249,
          0.15783,
          0.16475,
          0.11866,
          0.12788,
          0.16014,
          0.17396,
          0.15783,
          0.18318,
          0.20622,
          0.21544,
          0.22696,
          0.11636,
          0.11636,
          0.1371,
          0.10023,
          0.21313,
          0.26152,
          0.2523,
          0.71083,
          0.66244,
          0.6947,
          0.71544,
          0.37212,
          0.37442,
          0.4159,
          0.22696,
          0.2477,
          0.27304,
          0.29147,
          0.22235,
          0.22465,
          0.20392,
          0.18548,
          0.20622,
          0.24539,
          0.22235,
          0.22696,
          0.25922,
          0.22465,
          0.20392,
          0.19931,
          0.23387,
          0.25691,
          0.25461,
          0.26613,
          0.24309,
          0.23387,
          0.24078,
          0.27304,
          0.28917,
          0.303,
          0.31912,
          0.33756,
          0.3629,
          0.37442,
          0.60484,
          0.57028,
          0.56336,
          0.62327,
          0.66475,
          0.66475,
          0.68779,
          0.71774,
          0.73848,
          0.74078,
          0.71083,
          0.68548,
          0.68318,
          0.68779,
          0.68779,
          0.66936,
          0.65553,
          0.6394,
          0.6394,
          0.5841,
          0.56336,
          0.54724,
          0.56797,
          0.5818,
          0.59562,
          0.62558,
          0.64862,
          0.6371,
          0.6417,
          0.66705,
          0.70622,
          0.96198,
          0.92742,
          0.92742,
          0.94816,
          0.96198,
          0.95737,
          0.9159,
          0.9159,
          0.92281,
          0.92512,
          0.93664,
          0.96889,
          0.99885,
          0.95968,
          0.95507,
          0.94124,
          0.9182,
          0.91129,
          0.91359,
          0.90668,
          0.87903,
          0.87442,
          0.92742,
          0.94816,
          0.96198,
          0.96659,
          0.96659,
          0.94816,
          0.93433,
          0.94816,
          0.96429,
          0.98963,
          0.98733,
          0.96659,
          0.95968,
          0.90438,
          0.9159,
          0.92281,
          0.91129,
          0.89055,
          0.87442,
          0.89746,
          0.91359,
          0.96889,
          0.98502,
          0.99424,
          0.96429,
          0.97581,
          0.98963,
          0.99654
         ],
         "y": [
          0.60307,
          0.64985,
          0.70541,
          0.78436,
          0.86623,
          0.92909,
          0.93494,
          0.93494,
          0.91009,
          0.87939,
          0.83699,
          0.81944,
          0.85453,
          0.88962,
          0.89985,
          0.83553,
          0.79167,
          0.76535,
          0.8326,
          0.88523,
          0.92178,
          0.89985,
          0.8633,
          0.81944,
          0.85746,
          0.89985,
          0.93786,
          0.94517,
          0.93494,
          0.90132,
          0.86184,
          0.85892,
          0.86184,
          0.87208,
          0.87208,
          0.83845,
          0.83114,
          0.8136,
          0.77412,
          0.74927,
          0.72734,
          0.69956,
          0.65424,
          0.63377,
          0.62354,
          0.58553,
          0.57968,
          0.59576,
          0.64254,
          0.64547,
          0.70395,
          0.74196,
          0.77705,
          0.79167,
          0.81506,
          0.82383,
          0.88231,
          0.89401,
          0.88962,
          0.86477,
          0.8443,
          0.83991,
          0.88377,
          0.89985,
          0.9364,
          0.95541,
          0.96126,
          0.95833,
          0.93348,
          0.92471,
          0.94225,
          0.92178,
          0.89108,
          0.88085,
          0.96126,
          0.96418,
          0.9671,
          0.94225,
          0.9364,
          0.92325,
          0.90132,
          0.88816,
          0.86477,
          0.84868,
          0.90716,
          0.92763,
          0.93348,
          0.95833,
          0.97295,
          0.95687,
          0.93494,
          0.92763,
          0.95541,
          0.95833,
          0.95249,
          0.94956,
          0.9364,
          0.92325,
          0.91886,
          0.91447,
          0.89254,
          0.88962,
          0.875,
          0.85015,
          0.83991,
          0.81652,
          0.79898,
          0.79021,
          0.76389,
          0.75658,
          0.84284,
          0.88962,
          0.92325,
          0.93933,
          0.94079,
          0.92178,
          0.91594,
          0.91594,
          0.93786,
          0.95102,
          0.91886,
          0.87208,
          0.85307,
          0.92617,
          0.95541,
          0.94664,
          0.92909,
          0.91447,
          0.92325,
          0.93056,
          0.92617,
          0.92325,
          0.91009,
          0.95979,
          0.95979,
          0.93933,
          0.9057,
          0.90863,
          0.92032,
          0.92471,
          0.92325,
          0.91447,
          0.94956,
          0.96272,
          0.95541,
          0.95102,
          0.91301,
          0.86477,
          0.86184,
          0.8867,
          0.91009,
          0.9174,
          0.9174,
          0.91009,
          0.88377,
          0.8633,
          0.84137,
          0.85599,
          0.87646,
          0.89839,
          0.89839,
          0.89547,
          0.89108,
          0.875,
          0.86038,
          0.85015,
          0.83406,
          0.81944,
          0.78728,
          0.75365,
          0.74781,
          0.73903,
          0.70102,
          0.68348,
          0.65424,
          0.63085,
          0.58845,
          0.58845,
          0.625,
          0.66447,
          0.67032,
          0.67178,
          0.70541,
          0.72149,
          0.75219,
          0.7595,
          0.77412,
          0.77412,
          0.89693,
          0.84576,
          0.82091,
          0.79898,
          0.74927,
          0.85161,
          0.8633,
          0.85453,
          0.84137,
          0.83406,
          0.82968,
          0.81067,
          0.8019,
          0.84137,
          0.83406,
          0.82383,
          0.80483,
          0.78436,
          0.80044,
          0.80044,
          0.81652,
          0.80629,
          0.78143,
          0.77851,
          0.76243,
          0.72588,
          0.70687,
          0.69664,
          0.67909,
          0.66155,
          0.65278,
          0.64401,
          0.62646,
          0.60599,
          0.58114,
          0.55336,
          0.52997,
          0.51828,
          0.52558,
          0.56506,
          0.58406,
          0.62061,
          0.66886,
          0.68202,
          0.73026,
          0.76389,
          0.80921,
          0.82091,
          0.82822,
          0.82237,
          0.79898,
          0.78874,
          0.76828,
          0.76535,
          0.77705,
          0.80044,
          0.79898,
          0.77997,
          0.73903,
          0.69079,
          0.66155,
          0.63962,
          0.61769,
          0.60892,
          0.59137,
          0.57237,
          0.53436,
          0.53874,
          0.59137,
          0.62939,
          0.64839,
          0.67617,
          0.70249,
          0.76243,
          0.73903,
          0.6674,
          0.61184,
          0.59868,
          0.61477,
          0.63231,
          0.64985,
          0.66009,
          0.6674,
          0.67471,
          0.67617,
          0.66155,
          0.63962,
          0.61623,
          0.58699,
          0.55775,
          0.52851,
          0.52705,
          0.55629,
          0.59722,
          0.64254,
          0.66155,
          0.67325,
          0.69371,
          0.69664,
          0.70687,
          0.69225,
          0.67471,
          0.65424,
          0.65278,
          0.66886,
          0.6981,
          0.70249,
          0.67617,
          0.68202,
          0.68494,
          0.70541,
          0.70979,
          0.71418,
          0.71126,
          0.68348,
          0.68494,
          0.66447,
          0.6557,
          0.63231,
          0.60746,
          0.5943,
          0.5826,
          0.55336,
          0.54313,
          0.53728,
          0.54605,
          0.57675,
          0.58553,
          0.625,
          0.64108,
          0.65278,
          0.67178,
          0.6864,
          0.6864,
          0.6864,
          0.67471,
          0.89985,
          0.89547,
          0.89108,
          0.88231,
          0.87792,
          0.8867,
          0.89254,
          0.90863,
          0.91594,
          0.90716,
          0.875,
          0.79313,
          0.77997,
          0.77558,
          0.77266,
          0.77412,
          0.77705,
          0.8019,
          0.80336,
          0.80044,
          0.80629,
          0.84576,
          0.86623,
          0.85015,
          0.83699,
          0.82675,
          0.82237,
          0.82237,
          0.82091,
          0.81944,
          0.78874,
          0.78582,
          0.83991,
          0.85015,
          0.94079,
          0.94079,
          0.93056,
          0.95102,
          0.89985,
          0.89108,
          0.86038,
          0.86623,
          0.88523,
          0.88377,
          0.91447,
          0.91301,
          0.89693,
          0.88523,
          0.88377,
          0.91155,
          0.89693,
          0.87939,
          0.85892,
          0.71418,
          0.77412,
          0.74488,
          0.6981,
          0.67325,
          0.65424,
          0.63816,
          0.61623,
          0.60453,
          0.5636,
          0.52851,
          0.5095,
          0.64254,
          0.66886,
          0.67909,
          0.70541,
          0.73903,
          0.72295,
          0.70541,
          0.65132,
          0.64108,
          0.6674,
          0.69517,
          0.71126,
          0.72295,
          0.71857,
          0.68786,
          0.66155,
          0.64839,
          0.59137,
          0.59576,
          0.60015,
          0.62208,
          0.62061,
          0.5943,
          0.57675,
          0.56652,
          0.56214,
          0.55775,
          0.55483,
          0.54751,
          0.53582,
          0.5329,
          0.52851,
          0.52705,
          0.52705,
          0.52997,
          0.52997,
          0.52705,
          0.51681,
          0.51097,
          0.53582,
          0.5636,
          0.57529,
          0.58845,
          0.60746,
          0.61623,
          0.61915,
          0.60746,
          0.5943,
          0.54167,
          0.52266,
          0.51097,
          0.50804,
          0.51681,
          0.52266,
          0.52412,
          0.56652,
          0.56652,
          0.53582,
          0.51681,
          0.56214,
          0.57091,
          0.57822,
          0.59576,
          0.59576,
          0.64547,
          0.69371,
          0.70687,
          0.7288,
          0.71272,
          0.7405,
          0.75365,
          0.75658,
          0.74196,
          0.7171,
          0.68786,
          0.66594,
          0.65132,
          0.65278,
          0.60892,
          0.59137,
          0.5636,
          0.54167,
          0.54313,
          0.61184,
          0.68933,
          0.73319,
          0.74927,
          0.76535,
          0.6674,
          0.67763,
          0.6864,
          0.71272,
          0.7288,
          0.73026,
          0.70102,
          0.63377,
          0.5519,
          0.53874,
          0.5329,
          0.81652,
          0.78582,
          0.75658,
          0.72734,
          0.71857,
          0.72295,
          0.73319,
          0.75219,
          0.76535,
          0.77705,
          0.79605,
          0.8136,
          0.82529,
          0.79605,
          0.76535,
          0.73903,
          0.74342,
          0.74196,
          0.7405,
          0.75219,
          0.7829,
          0.77558,
          0.7712,
          0.75512,
          0.74781,
          0.7405,
          0.70541,
          0.67471,
          0.64401,
          0.81214,
          0.84722,
          0.81652,
          0.84576,
          0.87792,
          0.86038,
          0.82675,
          0.79021,
          0.8019,
          0.76097,
          0.71272,
          0.74927,
          0.67325,
          0.62939,
          0.59576,
          0.62646,
          0.62354,
          0.68494,
          0.7405,
          0.76535,
          0.82091,
          0.76243,
          0.69517,
          0.64839,
          0.5943,
          0.5826,
          0.69225,
          0.69225,
          0.69225,
          0.68933,
          0.67471,
          0.64839,
          0.6367,
          0.62939,
          0.62061,
          0.64401,
          0.65424,
          0.67325,
          0.68494,
          0.6864,
          0.69225,
          0.67178,
          0.67909,
          0.66155,
          0.65716,
          0.63816,
          0.63816,
          0.64693,
          0.67909,
          0.67325,
          0.65863,
          0.70249,
          0.70395,
          0.72588,
          0.73757,
          0.68933,
          0.67471,
          0.68786,
          0.72295,
          0.69371,
          0.57237,
          0.54605,
          0.52997,
          0.49196,
          0.54868,
          0.58757,
          0.57529,
          0.54254,
          0.5671,
          0.62237,
          0.62032,
          0.5364,
          0.50979,
          0.57734,
          0.59576,
          0.56915,
          0.5405,
          0.54868,
          0.54459,
          0.67968,
          0.76974,
          0.86184,
          0.92734,
          0.93348,
          0.93962,
          0.85175,
          0.81842,
          0.81316,
          0.79561,
          0.77281,
          0.74649,
          0.74649,
          0.76228,
          0.78684,
          0.80614,
          0.83246,
          0.87456,
          0.9114,
          0.90088,
          0.85702,
          0.81842,
          0.77281,
          0.7307,
          0.75351,
          0.76404,
          0.48509,
          0.47105,
          0.45175,
          0.43596,
          0.42193,
          0.4114,
          0.42895,
          0.45526,
          0.49211,
          0.51491,
          0.53597,
          0.51667,
          0.50088,
          0.47456,
          0.45,
          0.43421,
          0.42368,
          0.41667,
          0.52368,
          0.4886,
          0.47807,
          0.44123,
          0.42544,
          0.42193,
          0.44123,
          0.46579,
          0.49912,
          0.52193,
          0.55351,
          0.57456,
          0.58684,
          0.5114,
          0.50263,
          0.47632,
          0.42895,
          0.41667,
          0.4693,
          0.46053,
          0.45,
          0.45175,
          0.44649,
          0.43947,
          0.44825,
          0.46579,
          0.46579,
          0.46403,
          0.45877,
          0.45877,
          0.45526,
          0.43772,
          0.42368,
          0.41491,
          0.41667,
          0.44123,
          0.44825,
          0.47105,
          0.47807,
          0.47807,
          0.47456,
          0.47456,
          0.47456,
          0.45175,
          0.43246,
          0.4114,
          0.40614,
          0.49912,
          0.51667,
          0.50439,
          0.49561,
          0.49035,
          0.47632,
          0.47281,
          0.48684,
          0.48509,
          0.46579,
          0.46228,
          0.45877,
          0.43947,
          0.43596,
          0.42193,
          0.41842,
          0.41667,
          0.44825,
          0.45,
          0.4886,
          0.45526,
          0.43596,
          0.42018,
          0.4114,
          0.40965,
          0.45877,
          0.53597,
          0.57281,
          0.53597,
          0.49912,
          0.5114,
          0.52719,
          0.52018,
          0.49737,
          0.47983,
          0.45,
          0.42719,
          0.4079,
          0.40263,
          0.44123,
          0.46403,
          0.46403,
          0.4886,
          0.50965,
          0.46754,
          0.43246,
          0.42544,
          0.42018,
          0.47983,
          0.51667,
          0.53246,
          0.52544,
          0.48509,
          0.45526,
          0.44474,
          0.48333,
          0.53597,
          0.55351,
          0.98158,
          0.9693,
          0.98684,
          0.95877,
          0.9886,
          0.96754,
          0.97105,
          0.7921,
          0.83421,
          0.85877,
          0.86228,
          0.81316,
          0.79737,
          0.77456,
          0.75526,
          0.72895,
          0.72368,
          0.70614,
          0.69561,
          0.68158,
          0.66053,
          0.64825,
          0.65526,
          0.69737,
          0.72719,
          0.66579,
          0.64123,
          0.63597,
          0.61842,
          0.61316,
          0.62544,
          0.62544,
          0.61491,
          0.60088,
          0.58509,
          0.54825,
          0.52895,
          0.84474,
          0.81667,
          0.80439,
          0.81491,
          0.80439,
          0.78333,
          0.74825,
          0.71667,
          0.70263,
          0.73596,
          0.73772,
          0.76579,
          0.77632,
          0.80263,
          0.82017,
          0.83772,
          0.84474,
          0.81842,
          0.83947,
          0.83947,
          0.79737,
          0.77281,
          0.84298,
          0.8693,
          0.87105,
          0.8693,
          0.85702,
          0.83947,
          0.80439,
          0.85702,
          0.82193,
          0.57983,
          0.5921,
          0.57281,
          0.5693,
          0.55,
          0.55702,
          0.55702,
          0.55702,
          0.52895,
          0.51491,
          0.49912,
          0.49035,
          0.51491,
          0.54298,
          0.52895,
          0.50088,
          0.48684,
          0.48158,
          0.46579,
          0.44298,
          0.42193,
          0.4079,
          0.4079,
          0.4114,
          0.41316,
          0.42544,
          0.43421,
          0.43421,
          0.43596,
          0.4693,
          0.47456,
          0.45351,
          0.43596,
          0.51667,
          0.55702,
          0.56053,
          0.52544,
          0.49386,
          0.45351,
          0.44474,
          0.50789,
          0.52719,
          0.53772,
          0.56579,
          0.57983,
          0.51667,
          0.47281,
          0.43947,
          0.42544,
          0.41491
         ],
         "z": [
          0.0646129198,
          0.060642702300000004,
          0.06907797966,
          0.1219915108,
          0.1826272709,
          0.3050574106,
          0.40176241679999997,
          0.5805696918000001,
          0.6888562219,
          0.7203259368,
          0.6778865709,
          0.6145799999999999,
          0.6605858712,
          0.6856657187999999,
          0.6894020805,
          0.6516716235000001,
          0.5937525,
          0.582829332,
          0.6781693520000001,
          0.7210375395999999,
          0.5192939808,
          0.44474186400000004,
          0.414737953,
          0.3672402304,
          0.3645233952,
          0.40534643100000006,
          0.4786556082,
          0.4714980545,
          0.32851921720000005,
          0.2460964128,
          0.2015585208,
          0.1850457248,
          0.1161674136,
          0.06530571079999999,
          0.05123993248,
          0.0840378435,
          0.10054300579999999,
          0.10779386399999999,
          0.106131852,
          0.0871850572,
          0.0762543256,
          0.0749508584,
          0.05954499936,
          0.043078614439999996,
          0.04238326088,
          0.05464048854,
          0.0941632192,
          0.1063848632,
          0.0925321854,
          0.0706466915,
          0.10299492449999999,
          0.1102700952,
          0.12443678700000001,
          0.0975891609,
          0.0854508904,
          0.06738682250999999,
          0.051841006360000004,
          0.08548702422,
          0.12811417619999999,
          0.1464574472,
          0.13909842500000003,
          0.0996637206,
          0.1435595988,
          0.2125175745,
          0.25999146,
          0.28508478989999997,
          0.3244829256,
          0.3279117761,
          0.2742377544,
          0.2397033262,
          0.23772967500000003,
          0.1964589714,
          0.1817090336,
          0.16947553999999998,
          0.348841254,
          0.40322007600000004,
          0.41558221199999995,
          0.36799573750000003,
          0.36571102,
          0.38610315,
          0.3727769388,
          0.36529132639999995,
          0.3955198549,
          0.3959856012,
          0.4608917095999999,
          0.48412082069999995,
          0.40543836839999997,
          0.42948517280000004,
          0.4517309555,
          0.4861473722,
          0.4900861986,
          0.5268660111,
          0.5602619781,
          0.5663826133000001,
          0.5958586942,
          0.6290265264,
          0.646200276,
          0.630745935,
          0.6806731108,
          0.7006029011,
          0.6385588176,
          0.6487642812,
          0.6522162499999999,
          0.627818772,
          0.6202567368,
          0.6368447740000001,
          0.643418594,
          0.6290703768,
          0.5975605914,
          0.5796386354,
          0.606886942,
          0.6569665776,
          0.683925135,
          0.6720342551999999,
          0.6362280533000001,
          0.587266038,
          0.6236452272,
          0.6785100332,
          0.7098756126,
          0.739560703,
          0.765364437,
          0.680178796,
          0.6633898855,
          0.7138362658,
          0.6417106806,
          0.5442044032,
          0.5062890137,
          0.46039906620000004,
          0.4095075375,
          0.36343020800000003,
          0.31263794520000004,
          0.341436315,
          0.3973816976,
          0.5141691009,
          0.4389791523,
          0.3971581173,
          0.370422243,
          0.3339306113,
          0.28945904640000003,
          0.30788219450000004,
          0.4222668525,
          0.46460562819999995,
          0.44961665999999995,
          0.5179626144,
          0.6659207699999999,
          0.713265,
          0.7310379769,
          0.7123369921,
          0.6126217272,
          0.622117587,
          0.579818339,
          0.5443117679999999,
          0.516826464,
          0.4917398288,
          0.45104969489999996,
          0.43264279499999997,
          0.40420256169999996,
          0.3698133597,
          0.3544228948,
          0.3281010119,
          0.2825616228,
          0.2486272455,
          0.2350847256,
          0.20664875,
          0.191305493,
          0.165524205,
          0.14317473960000002,
          0.1444426888,
          0.1442139504,
          0.12068951100000001,
          0.0835677675,
          0.0655593513,
          0.06541778436,
          0.0858314184,
          0.10627474560000001,
          0.080673098,
          0.0793171755,
          0.10914570600000001,
          0.12025,
          0.0880356303,
          0.0671861736,
          0.050306245299999997,
          0.04957409857,
          0.06732800382,
          0.0753920037,
          0.049874846,
          0.06332069364,
          0.07580647512000001,
          0.7367652099,
          0.7259158079999999,
          0.6686476132,
          0.6305310466,
          0.5930322196,
          0.3169011132,
          0.303346354,
          0.26088800900000003,
          0.2723767101,
          0.2411851302,
          0.230360652,
          0.23815863259999998,
          0.23927894099999997,
          0.26656284339999997,
          0.2949986814,
          0.29138043269999997,
          0.24571459900000003,
          0.22861740919999998,
          0.2093310688,
          0.2148621092,
          0.2210646248,
          0.199718033,
          0.2025622846,
          0.2035959352,
          0.17830950410000002,
          0.1664152488,
          0.1881193131,
          0.21108192,
          0.19950306019999997,
          0.1775798665,
          0.1842536828,
          0.20106636209999998,
          0.21868465680000002,
          0.2129327662,
          0.22026949419999997,
          0.23269341359999998,
          0.2008745291,
          0.1797239556,
          0.17741478480000003,
          0.19594585620000002,
          0.210612036,
          0.19804906320000001,
          0.21961349240000003,
          0.228647205,
          0.224627976,
          0.233215617,
          0.2582350952,
          0.2752100775,
          0.29865613199999996,
          0.3192851525,
          0.32309153240000005,
          0.3262149766,
          0.2876593976,
          0.2795134735,
          0.28557364550000003,
          0.2960187208,
          0.27706229460000004,
          0.2596910115,
          0.2460600385,
          0.24750314910000001,
          0.2339836195,
          0.23506674619999998,
          0.2440863804,
          0.2350065848,
          0.2595759478,
          0.24200375970000004,
          0.2407078056,
          0.2501315946,
          0.278653544,
          0.2907655922,
          0.28311300959999997,
          0.2749848156,
          0.26302630579999997,
          0.27317104470000003,
          0.27160091529999997,
          0.271418232,
          0.25869207040000003,
          0.2903717736,
          0.29534165570000004,
          0.3212514186,
          0.334659753,
          0.347537385,
          0.372916424,
          0.3878772848,
          0.4011851844,
          0.42451663500000003,
          0.4340269434,
          0.4337766216,
          0.42671825040000005,
          0.41188722,
          0.41221137450000006,
          0.41593204850000004,
          0.43644288239999995,
          0.4685549232,
          0.48190500000000003,
          0.488541444,
          0.490974295,
          0.4707307947,
          0.46309143999999997,
          0.41776723870000004,
          0.38041906500000006,
          0.3583452281,
          0.32335157760000005,
          0.28803264720000005,
          0.2858841412,
          0.277473807,
          0.27921870029999996,
          0.31549416030000005,
          0.34650708119999996,
          0.34799061639999995,
          0.38602856839999994,
          0.414588339,
          0.436899615,
          0.47608899359999995,
          0.4338662692,
          0.4868759002,
          0.460079028,
          0.49026688999999996,
          0.46111839060000004,
          0.4471999028,
          0.44161838700000006,
          0.45037310399999997,
          0.413747272,
          0.41360435759999997,
          0.433907328,
          0.4435072705,
          0.47907162000000003,
          0.4823186269,
          0.4961125,
          0.49853586199999994,
          0.4940957098,
          0.49764118840000005,
          0.49582104000000005,
          0.451534512,
          0.442048464,
          0.4003189372,
          0.486206952,
          0.5581195869,
          0.5800217936000001,
          0.6109114440000001,
          0.561342048,
          0.48727711800000006,
          0.4822572128,
          0.5139847321000001,
          0.5793228906,
          0.6385680671999999,
          0.65625,
          0.638707589,
          0.6532716732,
          0.6728234058,
          0.6987782508,
          0.7375505712000001,
          0.7582531605,
          0.776952891,
          0.7450521312,
          0.7054597896,
          0.6864591802,
          0.683035776,
          0.6935816987000001,
          0.73163909,
          0.7608155401,
          0.7610316425,
          0.7854209159000001,
          0.7948946183,
          0.7953714899000001,
          0.7354146224,
          0.6715174612,
          0.6690314316,
          0.7189545609000001,
          0.704213251,
          0.5646903817000001,
          0.5646903817000001,
          0.4491999232,
          0.2421392022,
          0.20422995600000002,
          0.1426975512,
          0.15165918260000003,
          0.0968012025,
          0.06629044854999999,
          0.04785437796,
          0.04108805157,
          0.1020288675,
          0.0940341412,
          0.1356437929,
          0.17614419869999998,
          0.055659243000000004,
          0.050633492360000004,
          0.06585312015,
          0.08015269656,
          0.2525983242,
          0.23990752920000002,
          0.2016688112,
          0.209911689,
          0.264492995,
          0.2645615712,
          0.2683526616,
          0.27474614550000004,
          0.2806772337,
          0.21102311199999998,
          0.2246801712,
          0.18842328999999997,
          0.3086826414,
          0.2874225192,
          0.3763177235,
          0.4380384477,
          0.4555085308,
          0.47891099800000003,
          0.4819220038,
          0.450973968,
          0.461609654,
          0.485173104,
          0.4733273496,
          0.46625226779999995,
          0.4489302615,
          0.42468205570000006,
          0.3906838442,
          0.37574055349999996,
          0.3667747713,
          0.3713093956,
          0.33562735359999996,
          0.37128879899999995,
          0.3776896512,
          0.36535931309999997,
          0.343024017,
          0.336879675,
          0.34656861,
          0.35036499779999997,
          0.3476288425,
          0.3317495019,
          0.30340266650000003,
          0.2919843926,
          0.29039319700000005,
          0.30139868280000004,
          0.31392152100000004,
          0.3151390065,
          0.3339764946,
          0.34863016510000006,
          0.371001036,
          0.3649815582,
          0.35850166170000003,
          0.35618634499999996,
          0.362964036,
          0.37049251289999996,
          0.3789676845,
          0.387012766,
          0.3911766417,
          0.3644997965,
          0.3352207264,
          0.33343795800000003,
          0.3126465073,
          0.2884246944,
          0.2796232228,
          0.2780198096,
          0.3066337092,
          0.3498476976,
          0.35323591520000003,
          0.37528550880000006,
          0.37528550880000006,
          0.343835694,
          0.3435494475,
          0.32575450859999994,
          0.3111059863,
          0.31642511279999996,
          0.3603394784,
          0.3877920992,
          0.2506037275,
          0.2565478322,
          0.22069188269999998,
          0.22753864799999998,
          0.1946010688,
          0.22607465000000002,
          0.2352970665,
          0.19263283380000001,
          0.21455257319999999,
          0.19579698399999998,
          0.20366158880000002,
          0.22939635179999998,
          0.2393666132,
          0.2564511508,
          0.23641319,
          0.24049835159999997,
          0.22011398,
          0.21778925689999998,
          0.1945980477,
          0.20793994240000002,
          0.24221677540000003,
          0.223842907,
          0.1804092306,
          0.216027691,
          0.325244042,
          0.3520829954,
          0.402511824,
          0.4524275288,
          0.472714256,
          0.485440335,
          0.49023029619999997,
          0.47678517099999995,
          0.432998664,
          0.43260822000000004,
          0.44264805600000007,
          0.49762811400000007,
          0.480725385,
          0.4349427104,
          0.3963493862,
          0.40150817320000004,
          0.4256078945,
          0.4367026278,
          0.4532245626,
          0.436463798,
          0.437758888,
          0.4594720995,
          0.488347128,
          0.5105739114,
          0.5144950755000001,
          0.487604485,
          0.47934963859999996,
          0.48390694640000004,
          0.48979747439999993,
          0.48883367,
          0.5034858984,
          0.496977091,
          0.4673179732,
          0.46645260800000005,
          0.4654257632,
          0.4919318523,
          0.50419164,
          0.49167077,
          0.47804552920000004,
          0.47410728179999995,
          0.133800065,
          0.1278624424,
          0.115700884,
          0.11399999039999999,
          0.1122684096,
          0.07235881838,
          0.056195851000000005,
          0.0974091867,
          0.06559301429999999,
          0.104328987,
          0.097713912,
          0.1130798284,
          0.100058415,
          0.1341418907,
          0.08441919199999999,
          0.1060972656,
          0.04813042905999999,
          0.03866623288,
          0.0639829025,
          0.05378650195,
          0.05201614124000001,
          0.04128405964,
          0.03603969831,
          0.05303635683,
          0.09106458900000002,
          0.12148375200000001,
          0.504830235,
          0.557468925,
          0.573418365,
          0.5900595867,
          0.6257395482,
          0.6327054459,
          0.624233414,
          0.5663062403,
          0.5412463932,
          0.5468160108,
          0.5328915648,
          0.52820502,
          0.531068229,
          0.53220024,
          0.5159962275000001,
          0.5440813398000001,
          0.582862947,
          0.570851495,
          0.6064338196,
          0.6006617183999999,
          0.6315422808,
          0.6387333969000001,
          0.623540438,
          0.5669909525,
          0.5334310233,
          0.5106821304,
          0.48578885549999995,
          0.5009225291999999,
          0.42741443929999995,
          0.32639775499999996,
          0.2930467943,
          0.171965,
          0.1624107175,
          0.12547826480000002,
          0.0679174242,
          0.08996173750000001,
          0.0909746502,
          0.0765145388,
          0.0726946132,
          0.0737870406,
          0.1027295353,
          0.120633769,
          0.130013346,
          0.1254760157,
          0.1079108672,
          0.07600788,
          0.069892209,
          0.044564297259999996,
          0.044613487599999994,
          0.0754066835,
          0.10399219999999999,
          0.04108790179999999,
          0.0633684924,
          0.08535421439999999,
          0.07005711635999999,
          0.1300688928,
          0.1891031728,
          0.24842703239999997,
          0.3020220566,
          0.43078108,
          0.3950677024,
          0.4131340696,
          0.3858867622,
          0.3694881891,
          0.3569043339,
          0.3431465232,
          0.35040487039999996,
          0.37619607239999997,
          0.3705664352,
          0.3845798708,
          0.41410416,
          0.433653234,
          0.4037383808,
          0.4255447108,
          0.4214699316,
          0.3694881891,
          0.34767436700000004,
          0.32901260639999996,
          0.3582507156,
          0.1860999276,
          0.16660567450000002,
          0.16706618499999998,
          0.1551974004,
          0.1453422271,
          0.143611512,
          0.163575793,
          0.17360884840000002,
          0.18652445329999998,
          0.1987243654,
          0.22290992299999998,
          0.21368954529999998,
          0.2025458544,
          0.19518178239999998,
          0.18197100000000002,
          0.1715824236,
          0.1684000896,
          0.1704138633,
          0.41327254560000004,
          0.39459335999999995,
          0.384989771,
          0.3461714088,
          0.3328046944,
          0.35047193520000003,
          0.3705714278,
          0.38368519669999995,
          0.4191909232,
          0.43834812980000004,
          0.4610461544999999,
          0.48387719519999994,
          0.505034504,
          0.41536419399999996,
          0.40129476570000006,
          0.38248496000000004,
          0.3325863825,
          0.30674412059999995,
          0.36711461799999995,
          0.36025419779999995,
          0.34164900000000004,
          0.3367299325,
          0.3307508622,
          0.3225138489,
          0.31346570749999997,
          0.32465563,
          0.322512996,
          0.3138095681,
          0.3017926691,
          0.3017926691,
          0.2931919926,
          0.2839139464,
          0.2621138688,
          0.2318351116,
          0.2308976805,
          0.26077134230000004,
          0.2731859625,
          0.2925079185,
          0.3001705916,
          0.3078818607,
          0.3143675264,
          0.32311841280000003,
          0.3001544544,
          0.2659497425,
          0.251605228,
          0.234613192,
          0.2269347864,
          0.276587348,
          0.2660747166,
          0.2574255243,
          0.2563691408,
          0.2717274525,
          0.263952728,
          0.25546869920000004,
          0.25744099200000004,
          0.2442234114,
          0.22914073259999998,
          0.2391281984,
          0.241542405,
          0.23745443040000003,
          0.2255133888,
          0.2095051222,
          0.2048709846,
          0.19729324499999998,
          0.2184456725,
          0.228627,
          0.251619228,
          0.2050764196,
          0.20743412760000002,
          0.19895522999999998,
          0.188162018,
          0.184530939,
          0.2235723841,
          0.28589175769999997,
          0.30818323620000004,
          0.283420936,
          0.2558838504,
          0.094854472,
          0.10992965880000001,
          0.0988810162,
          0.0934011123,
          0.0912108847,
          0.0886545,
          0.08317389300000001,
          0.071900533,
          0.0589087953,
          0.0584585627,
          0.0732378549,
          0.0764489425,
          0.057977276,
          0.065174042,
          0.07487185560000001,
          0.0752307416,
          0.0671471952,
          0.0769685724,
          0.09895054259999998,
          0.11131138479999998,
          0.12084712160000001,
          0.061140198400000005,
          0.056445072400000004,
          0.062416146,
          0.0445762902,
          0.10301212289999999,
          0.14016687439999997,
          0.139650573,
          0.6977365113999999,
          0.642103092,
          0.685557748,
          0.6859424088,
          0.367877832,
          0.3622663268,
          0.40385969499999996,
          0.179775016,
          0.206633817,
          0.2344785608,
          0.2513287516,
          0.18080612599999998,
          0.1791291705,
          0.1579482752,
          0.1400856248,
          0.15032406899999998,
          0.17758383519999998,
          0.157010229,
          0.15787564559999998,
          0.1766791676,
          0.14838806449999997,
          0.13219113999999998,
          0.13059987059999997,
          0.1630939219,
          0.18682238290000003,
          0.1695167919,
          0.17065053989999998,
          0.1545979473,
          0.1446298854,
          0.1476366648,
          0.1707701376,
          0.1808584848,
          0.18631773,
          0.1917528256,
          0.19750298040000003,
          0.198959925,
          0.198049459,
          0.5109325416,
          0.46573056760000003,
          0.4531611504,
          0.5079089557,
          0.5347182525,
          0.5207186174999999,
          0.5146388675,
          0.5143827258000001,
          0.5188782024,
          0.5451844487999999,
          0.5243935076,
          0.5249337291999999,
          0.5303662976,
          0.5520408876999999,
          0.5641047243,
          0.5607362592,
          0.5537524121999999,
          0.523297748,
          0.536757118,
          0.49033442699999996,
          0.4492063632,
          0.4229125444,
          0.47878735059999994,
          0.50575874,
          0.518814801,
          0.543816694,
          0.5558803124,
          0.534826337,
          0.5161770630000001,
          0.5716751910000001,
          0.5804634046,
          0.5577848633999999,
          0.5491253819999999,
          0.5312354502000001,
          0.539787488,
          0.529089,
          0.5332742374,
          0.510174618,
          0.510174618,
          0.48812034950000005,
          0.4763535392,
          0.4674957568,
          0.4750952115,
          0.5143178535,
          0.5210870464,
          0.5051842765,
          0.4714482912,
          0.447016488,
          0.43885903820000005,
          0.42554108609999997,
          0.4016411064,
          0.3708891279,
          0.356675918,
          0.37829461799999997,
          0.390073024,
          0.3974516568,
          0.4112260496,
          0.41970304389999996,
          0.41170055359999996,
          0.4073305068,
          0.44497148799999997,
          0.45761346239999995,
          0.4488071013,
          0.4304363868,
          0.49940805529999993,
          0.5345609536,
          0.5069321214,
          0.481250496,
          0.45573894660000003,
          0.41327912790000004,
          0.39606320700000003,
          0.4441091737999999,
          0.47313193740000004,
          0.49125561479999996,
          0.5481882731000001,
          0.5711441466,
          0.5136939808,
          0.4559259549,
          0.4288392207,
          0.4210281872,
          0.4134744114
         ]
        }
       ],
       "layout": {
        "coloraxis": {
         "colorbar": {
          "title": {
           "text": "Y"
          }
         },
         "colorscale": [
          [
           0,
           "#0d0887"
          ],
          [
           0.1111111111111111,
           "#46039f"
          ],
          [
           0.2222222222222222,
           "#7201a8"
          ],
          [
           0.3333333333333333,
           "#9c179e"
          ],
          [
           0.4444444444444444,
           "#bd3786"
          ],
          [
           0.5555555555555556,
           "#d8576b"
          ],
          [
           0.6666666666666666,
           "#ed7953"
          ],
          [
           0.7777777777777778,
           "#fb9f3a"
          ],
          [
           0.8888888888888888,
           "#fdca26"
          ],
          [
           1,
           "#f0f921"
          ]
         ]
        },
        "legend": {
         "tracegroupgap": 0
        },
        "margin": {
         "t": 60
        },
        "scene": {
         "domain": {
          "x": [
           0,
           1
          ],
          "y": [
           0,
           1
          ]
         },
         "xaxis": {
          "title": {
           "text": "X1"
          }
         },
         "yaxis": {
          "title": {
           "text": "X2"
          }
         },
         "zaxis": {
          "title": {
           "text": "X1_*_X2"
          }
         }
        },
        "template": {
         "data": {
          "bar": [
           {
            "error_x": {
             "color": "#2a3f5f"
            },
            "error_y": {
             "color": "#2a3f5f"
            },
            "marker": {
             "line": {
              "color": "#E5ECF6",
              "width": 0.5
             },
             "pattern": {
              "fillmode": "overlay",
              "size": 10,
              "solidity": 0.2
             }
            },
            "type": "bar"
           }
          ],
          "barpolar": [
           {
            "marker": {
             "line": {
              "color": "#E5ECF6",
              "width": 0.5
             },
             "pattern": {
              "fillmode": "overlay",
              "size": 10,
              "solidity": 0.2
             }
            },
            "type": "barpolar"
           }
          ],
          "carpet": [
           {
            "aaxis": {
             "endlinecolor": "#2a3f5f",
             "gridcolor": "white",
             "linecolor": "white",
             "minorgridcolor": "white",
             "startlinecolor": "#2a3f5f"
            },
            "baxis": {
             "endlinecolor": "#2a3f5f",
             "gridcolor": "white",
             "linecolor": "white",
             "minorgridcolor": "white",
             "startlinecolor": "#2a3f5f"
            },
            "type": "carpet"
           }
          ],
          "choropleth": [
           {
            "colorbar": {
             "outlinewidth": 0,
             "ticks": ""
            },
            "type": "choropleth"
           }
          ],
          "contour": [
           {
            "colorbar": {
             "outlinewidth": 0,
             "ticks": ""
            },
            "colorscale": [
             [
              0,
              "#0d0887"
             ],
             [
              0.1111111111111111,
              "#46039f"
             ],
             [
              0.2222222222222222,
              "#7201a8"
             ],
             [
              0.3333333333333333,
              "#9c179e"
             ],
             [
              0.4444444444444444,
              "#bd3786"
             ],
             [
              0.5555555555555556,
              "#d8576b"
             ],
             [
              0.6666666666666666,
              "#ed7953"
             ],
             [
              0.7777777777777778,
              "#fb9f3a"
             ],
             [
              0.8888888888888888,
              "#fdca26"
             ],
             [
              1,
              "#f0f921"
             ]
            ],
            "type": "contour"
           }
          ],
          "contourcarpet": [
           {
            "colorbar": {
             "outlinewidth": 0,
             "ticks": ""
            },
            "type": "contourcarpet"
           }
          ],
          "heatmap": [
           {
            "colorbar": {
             "outlinewidth": 0,
             "ticks": ""
            },
            "colorscale": [
             [
              0,
              "#0d0887"
             ],
             [
              0.1111111111111111,
              "#46039f"
             ],
             [
              0.2222222222222222,
              "#7201a8"
             ],
             [
              0.3333333333333333,
              "#9c179e"
             ],
             [
              0.4444444444444444,
              "#bd3786"
             ],
             [
              0.5555555555555556,
              "#d8576b"
             ],
             [
              0.6666666666666666,
              "#ed7953"
             ],
             [
              0.7777777777777778,
              "#fb9f3a"
             ],
             [
              0.8888888888888888,
              "#fdca26"
             ],
             [
              1,
              "#f0f921"
             ]
            ],
            "type": "heatmap"
           }
          ],
          "heatmapgl": [
           {
            "colorbar": {
             "outlinewidth": 0,
             "ticks": ""
            },
            "colorscale": [
             [
              0,
              "#0d0887"
             ],
             [
              0.1111111111111111,
              "#46039f"
             ],
             [
              0.2222222222222222,
              "#7201a8"
             ],
             [
              0.3333333333333333,
              "#9c179e"
             ],
             [
              0.4444444444444444,
              "#bd3786"
             ],
             [
              0.5555555555555556,
              "#d8576b"
             ],
             [
              0.6666666666666666,
              "#ed7953"
             ],
             [
              0.7777777777777778,
              "#fb9f3a"
             ],
             [
              0.8888888888888888,
              "#fdca26"
             ],
             [
              1,
              "#f0f921"
             ]
            ],
            "type": "heatmapgl"
           }
          ],
          "histogram": [
           {
            "marker": {
             "pattern": {
              "fillmode": "overlay",
              "size": 10,
              "solidity": 0.2
             }
            },
            "type": "histogram"
           }
          ],
          "histogram2d": [
           {
            "colorbar": {
             "outlinewidth": 0,
             "ticks": ""
            },
            "colorscale": [
             [
              0,
              "#0d0887"
             ],
             [
              0.1111111111111111,
              "#46039f"
             ],
             [
              0.2222222222222222,
              "#7201a8"
             ],
             [
              0.3333333333333333,
              "#9c179e"
             ],
             [
              0.4444444444444444,
              "#bd3786"
             ],
             [
              0.5555555555555556,
              "#d8576b"
             ],
             [
              0.6666666666666666,
              "#ed7953"
             ],
             [
              0.7777777777777778,
              "#fb9f3a"
             ],
             [
              0.8888888888888888,
              "#fdca26"
             ],
             [
              1,
              "#f0f921"
             ]
            ],
            "type": "histogram2d"
           }
          ],
          "histogram2dcontour": [
           {
            "colorbar": {
             "outlinewidth": 0,
             "ticks": ""
            },
            "colorscale": [
             [
              0,
              "#0d0887"
             ],
             [
              0.1111111111111111,
              "#46039f"
             ],
             [
              0.2222222222222222,
              "#7201a8"
             ],
             [
              0.3333333333333333,
              "#9c179e"
             ],
             [
              0.4444444444444444,
              "#bd3786"
             ],
             [
              0.5555555555555556,
              "#d8576b"
             ],
             [
              0.6666666666666666,
              "#ed7953"
             ],
             [
              0.7777777777777778,
              "#fb9f3a"
             ],
             [
              0.8888888888888888,
              "#fdca26"
             ],
             [
              1,
              "#f0f921"
             ]
            ],
            "type": "histogram2dcontour"
           }
          ],
          "mesh3d": [
           {
            "colorbar": {
             "outlinewidth": 0,
             "ticks": ""
            },
            "type": "mesh3d"
           }
          ],
          "parcoords": [
           {
            "line": {
             "colorbar": {
              "outlinewidth": 0,
              "ticks": ""
             }
            },
            "type": "parcoords"
           }
          ],
          "pie": [
           {
            "automargin": true,
            "type": "pie"
           }
          ],
          "scatter": [
           {
            "marker": {
             "colorbar": {
              "outlinewidth": 0,
              "ticks": ""
             }
            },
            "type": "scatter"
           }
          ],
          "scatter3d": [
           {
            "line": {
             "colorbar": {
              "outlinewidth": 0,
              "ticks": ""
             }
            },
            "marker": {
             "colorbar": {
              "outlinewidth": 0,
              "ticks": ""
             }
            },
            "type": "scatter3d"
           }
          ],
          "scattercarpet": [
           {
            "marker": {
             "colorbar": {
              "outlinewidth": 0,
              "ticks": ""
             }
            },
            "type": "scattercarpet"
           }
          ],
          "scattergeo": [
           {
            "marker": {
             "colorbar": {
              "outlinewidth": 0,
              "ticks": ""
             }
            },
            "type": "scattergeo"
           }
          ],
          "scattergl": [
           {
            "marker": {
             "colorbar": {
              "outlinewidth": 0,
              "ticks": ""
             }
            },
            "type": "scattergl"
           }
          ],
          "scattermapbox": [
           {
            "marker": {
             "colorbar": {
              "outlinewidth": 0,
              "ticks": ""
             }
            },
            "type": "scattermapbox"
           }
          ],
          "scatterpolar": [
           {
            "marker": {
             "colorbar": {
              "outlinewidth": 0,
              "ticks": ""
             }
            },
            "type": "scatterpolar"
           }
          ],
          "scatterpolargl": [
           {
            "marker": {
             "colorbar": {
              "outlinewidth": 0,
              "ticks": ""
             }
            },
            "type": "scatterpolargl"
           }
          ],
          "scatterternary": [
           {
            "marker": {
             "colorbar": {
              "outlinewidth": 0,
              "ticks": ""
             }
            },
            "type": "scatterternary"
           }
          ],
          "surface": [
           {
            "colorbar": {
             "outlinewidth": 0,
             "ticks": ""
            },
            "colorscale": [
             [
              0,
              "#0d0887"
             ],
             [
              0.1111111111111111,
              "#46039f"
             ],
             [
              0.2222222222222222,
              "#7201a8"
             ],
             [
              0.3333333333333333,
              "#9c179e"
             ],
             [
              0.4444444444444444,
              "#bd3786"
             ],
             [
              0.5555555555555556,
              "#d8576b"
             ],
             [
              0.6666666666666666,
              "#ed7953"
             ],
             [
              0.7777777777777778,
              "#fb9f3a"
             ],
             [
              0.8888888888888888,
              "#fdca26"
             ],
             [
              1,
              "#f0f921"
             ]
            ],
            "type": "surface"
           }
          ],
          "table": [
           {
            "cells": {
             "fill": {
              "color": "#EBF0F8"
             },
             "line": {
              "color": "white"
             }
            },
            "header": {
             "fill": {
              "color": "#C8D4E3"
             },
             "line": {
              "color": "white"
             }
            },
            "type": "table"
           }
          ]
         },
         "layout": {
          "annotationdefaults": {
           "arrowcolor": "#2a3f5f",
           "arrowhead": 0,
           "arrowwidth": 1
          },
          "autotypenumbers": "strict",
          "coloraxis": {
           "colorbar": {
            "outlinewidth": 0,
            "ticks": ""
           }
          },
          "colorscale": {
           "diverging": [
            [
             0,
             "#8e0152"
            ],
            [
             0.1,
             "#c51b7d"
            ],
            [
             0.2,
             "#de77ae"
            ],
            [
             0.3,
             "#f1b6da"
            ],
            [
             0.4,
             "#fde0ef"
            ],
            [
             0.5,
             "#f7f7f7"
            ],
            [
             0.6,
             "#e6f5d0"
            ],
            [
             0.7,
             "#b8e186"
            ],
            [
             0.8,
             "#7fbc41"
            ],
            [
             0.9,
             "#4d9221"
            ],
            [
             1,
             "#276419"
            ]
           ],
           "sequential": [
            [
             0,
             "#0d0887"
            ],
            [
             0.1111111111111111,
             "#46039f"
            ],
            [
             0.2222222222222222,
             "#7201a8"
            ],
            [
             0.3333333333333333,
             "#9c179e"
            ],
            [
             0.4444444444444444,
             "#bd3786"
            ],
            [
             0.5555555555555556,
             "#d8576b"
            ],
            [
             0.6666666666666666,
             "#ed7953"
            ],
            [
             0.7777777777777778,
             "#fb9f3a"
            ],
            [
             0.8888888888888888,
             "#fdca26"
            ],
            [
             1,
             "#f0f921"
            ]
           ],
           "sequentialminus": [
            [
             0,
             "#0d0887"
            ],
            [
             0.1111111111111111,
             "#46039f"
            ],
            [
             0.2222222222222222,
             "#7201a8"
            ],
            [
             0.3333333333333333,
             "#9c179e"
            ],
            [
             0.4444444444444444,
             "#bd3786"
            ],
            [
             0.5555555555555556,
             "#d8576b"
            ],
            [
             0.6666666666666666,
             "#ed7953"
            ],
            [
             0.7777777777777778,
             "#fb9f3a"
            ],
            [
             0.8888888888888888,
             "#fdca26"
            ],
            [
             1,
             "#f0f921"
            ]
           ]
          },
          "colorway": [
           "#636efa",
           "#EF553B",
           "#00cc96",
           "#ab63fa",
           "#FFA15A",
           "#19d3f3",
           "#FF6692",
           "#B6E880",
           "#FF97FF",
           "#FECB52"
          ],
          "font": {
           "color": "#2a3f5f"
          },
          "geo": {
           "bgcolor": "white",
           "lakecolor": "white",
           "landcolor": "#E5ECF6",
           "showlakes": true,
           "showland": true,
           "subunitcolor": "white"
          },
          "hoverlabel": {
           "align": "left"
          },
          "hovermode": "closest",
          "mapbox": {
           "style": "light"
          },
          "paper_bgcolor": "white",
          "plot_bgcolor": "#E5ECF6",
          "polar": {
           "angularaxis": {
            "gridcolor": "white",
            "linecolor": "white",
            "ticks": ""
           },
           "bgcolor": "#E5ECF6",
           "radialaxis": {
            "gridcolor": "white",
            "linecolor": "white",
            "ticks": ""
           }
          },
          "scene": {
           "xaxis": {
            "backgroundcolor": "#E5ECF6",
            "gridcolor": "white",
            "gridwidth": 2,
            "linecolor": "white",
            "showbackground": true,
            "ticks": "",
            "zerolinecolor": "white"
           },
           "yaxis": {
            "backgroundcolor": "#E5ECF6",
            "gridcolor": "white",
            "gridwidth": 2,
            "linecolor": "white",
            "showbackground": true,
            "ticks": "",
            "zerolinecolor": "white"
           },
           "zaxis": {
            "backgroundcolor": "#E5ECF6",
            "gridcolor": "white",
            "gridwidth": 2,
            "linecolor": "white",
            "showbackground": true,
            "ticks": "",
            "zerolinecolor": "white"
           }
          },
          "shapedefaults": {
           "line": {
            "color": "#2a3f5f"
           }
          },
          "ternary": {
           "aaxis": {
            "gridcolor": "white",
            "linecolor": "white",
            "ticks": ""
           },
           "baxis": {
            "gridcolor": "white",
            "linecolor": "white",
            "ticks": ""
           },
           "bgcolor": "#E5ECF6",
           "caxis": {
            "gridcolor": "white",
            "linecolor": "white",
            "ticks": ""
           }
          },
          "title": {
           "x": 0.05
          },
          "xaxis": {
           "automargin": true,
           "gridcolor": "white",
           "linecolor": "white",
           "ticks": "",
           "title": {
            "standoff": 15
           },
           "zerolinecolor": "white",
           "zerolinewidth": 2
          },
          "yaxis": {
           "automargin": true,
           "gridcolor": "white",
           "linecolor": "white",
           "ticks": "",
           "title": {
            "standoff": 15
           },
           "zerolinecolor": "white",
           "zerolinewidth": 2
          }
         }
        }
       }
      }
     },
     "metadata": {},
     "output_type": "display_data"
    },
    {
     "name": "stdout",
     "output_type": "stream",
     "text": [
      "        X1       X2  Y  X1_Squared  X2_Squared   X1_*_X2\n",
      "0 -0.15899  0.42398  1    0.025278    0.179759 -0.067409\n",
      "1 -0.34793  0.47076  1    0.121055    0.221615 -0.163792\n",
      "2 -0.50461  0.35380  1    0.254631    0.125174 -0.178531\n",
      "3 -0.59677  0.11403  1    0.356134    0.013003 -0.068050\n",
      "4 -0.51843 -0.17252  1    0.268770    0.029763  0.089440\n"
     ]
    },
    {
     "data": {
      "application/vnd.plotly.v1+json": {
       "config": {
        "plotlyServerURL": "https://plot.ly"
       },
       "data": [
        {
         "hovertemplate": "X1=%{x}<br>X2=%{y}<br>X1_*_X2=%{z}<br>Y=%{marker.color}<extra></extra>",
         "legendgroup": "",
         "marker": {
          "color": [
           1,
           1,
           1,
           1,
           1,
           1,
           1,
           1,
           1,
           1,
           1,
           1,
           1,
           1,
           1,
           1,
           1,
           1,
           1,
           1,
           0,
           0,
           0,
           0,
           0,
           0,
           0,
           0,
           0,
           0,
           0,
           0,
           0,
           0,
           0,
           0,
           1,
           1,
           1,
           0,
           0,
           0,
           0,
           0,
           0,
           0,
           0,
           0,
           0,
           0,
           0,
           0,
           0,
           0,
           0,
           0,
           0,
           0,
           0,
           0,
           0,
           0,
           0,
           0,
           0,
           0,
           0,
           0,
           0,
           0,
           0,
           0,
           0,
           0,
           0,
           0,
           0,
           0,
           0,
           0,
           0,
           1,
           1,
           1,
           1,
           1,
           1,
           1,
           1,
           1,
           1,
           1,
           1,
           1,
           1,
           1,
           1,
           1,
           1,
           1,
           1,
           1,
           1,
           1,
           1,
           1,
           1,
           1,
           1,
           1,
           1,
           1,
           1,
           1,
           1,
           1,
           1,
           0,
           0,
           0,
           0,
           1,
           1,
           1,
           1,
           1,
           1,
           1,
           1,
           1,
           1,
           1,
           1,
           1,
           1,
           1,
           1,
           1,
           1,
           1,
           1,
           1,
           1,
           1,
           1,
           1,
           1,
           1,
           1,
           1,
           1,
           0,
           0,
           0,
           0,
           0,
           0,
           0,
           0,
           0,
           0,
           0,
           0,
           0,
           0,
           0,
           0,
           0,
           0,
           0,
           0,
           0,
           0,
           0,
           0,
           0,
           0,
           0,
           0,
           0,
           0,
           0,
           0,
           0,
           0,
           0,
           0,
           0,
           0,
           0,
           0,
           1,
           1,
           1,
           1,
           1,
           1,
           1,
           1,
           1,
           1,
           1,
           1,
           1,
           0,
           1,
           1,
           1,
           1,
           0,
           0
          ],
          "coloraxis": "coloraxis",
          "symbol": "circle"
         },
         "mode": "markers",
         "name": "",
         "scene": "scene",
         "showlegend": false,
         "type": "scatter3d",
         "x": [
          -0.15899,
          -0.34793,
          -0.50461,
          -0.59677,
          -0.51843,
          -0.29263,
          -0.15899,
          -0.057604,
          -0.071429,
          -0.29724,
          -0.41705,
          -0.44009,
          -0.32488,
          -0.24654,
          -0.21889,
          -0.34332,
          -0.50922,
          -0.38479,
          -0.14977,
          -0.19585,
          -0.03917,
          -0.1083,
          -0.18664,
          -0.21889,
          -0.080645,
          0.06682,
          0.09447,
          0.18664,
          0.062212,
          0.020737,
          0.029954,
          -0.099078,
          -0.0069124,
          0.13134,
          0.23272,
          0.085253,
          -0.13134,
          0.0023042,
          0.12212,
          -0.34793,
          -0.22811,
          -0.076037,
          0.043779,
          0.011521,
          -0.41705,
          -0.31567,
          0.12673,
          0.20507,
          0.21889,
          0.071429,
          -0.13134,
          -0.20968,
          -0.22811,
          -0.14516,
          -0.06682,
          0.13595,
          0.26959,
          0.29724,
          0.27419,
          0.25576,
          0.2235,
          0.18203,
          0.15899,
          0.071429,
          0.016129,
          -0.025346,
          -0.011521,
          -0.0023042,
          0.025346,
          0.025346,
          0.011521,
          -0.048387,
          -0.085253,
          -0.099078,
          -0.016129,
          0.13134,
          0.2235,
          0.29263,
          0.26037,
          0.20046,
          0.17281,
          -0.13134,
          -0.14977,
          -0.24194,
          -0.30184,
          -0.29724,
          -0.27419,
          -0.32488,
          -0.39862,
          -0.43548,
          -0.47235,
          -0.33871,
          -0.26959,
          -0.25576,
          -0.1682,
          -0.1129,
          -0.03917,
          -0.12673,
          -0.23272,
          -0.33871,
          -0.41244,
          -0.50922,
          -0.54148,
          -0.50461,
          -0.49078,
          -0.36175,
          -0.26959,
          -0.2235,
          -0.18664,
          -0.15438,
          -0.1129,
          -0.085253,
          -0.085253,
          -0.1682,
          -0.19124,
          -0.14055,
          -0.029954,
          -0.20046,
          -0.1083,
          0.034562,
          0.080645,
          -0.38537,
          -0.38122,
          -0.35219,
          -0.35426,
          -0.4144,
          -0.49942,
          -0.29827,
          -0.31694,
          -0.36878,
          -0.35634,
          -0.27131,
          -0.17799,
          -0.24643,
          -0.25058,
          -0.22154,
          -0.21532,
          -0.1303,
          -0.20703,
          -0.09712,
          -0.039055,
          0.019009,
          -0.036982,
          -0.06394,
          -0.1303,
          -0.375,
          -0.39574,
          -0.35426,
          -0.43721,
          -0.48076,
          -0.41025,
          -0.2485,
          -0.22776,
          -0.28376,
          -0.29205,
          -0.33767,
          -0.27753,
          -0.20703,
          -0.18629,
          -0.13237,
          -0.17799,
          -0.16555,
          -0.16141,
          0.00034562,
          0.079147,
          -0.026613,
          -0.053571,
          -0.014171,
          -0.070161,
          -0.06394,
          -0.03076,
          -0.057719,
          -0.053571,
          0.052189,
          -0.016244,
          -0.06394,
          -0.061866,
          -0.0038018,
          0.04182,
          0.079147,
          0.045968,
          0.11855,
          0.11025,
          0.10818,
          0.16624,
          0.14136,
          0.14343,
          0.17039,
          0.10818,
          0.11855,
          0.12684,
          -0.086751,
          -0.04735,
          0.02523,
          0.062558,
          -0.0058756,
          -0.051498,
          -0.08053,
          -0.15311,
          -0.11164,
          -0.16348,
          -0.25265,
          -0.24643,
          -0.32108,
          -0.33145,
          -0.38537,
          -0.39988,
          -0.12408,
          -0.31694,
          -0.29412,
          -0.15311
         ],
         "y": [
          0.42398,
          0.47076,
          0.3538,
          0.11403,
          -0.17252,
          -0.2076,
          -0.04386,
          0.14328,
          0.27193,
          0.34795,
          0.20175,
          0.0087719,
          -0.032164,
          0.055556,
          0.20175,
          0.16082,
          0.078947,
          -0.090643,
          0.12573,
          0.32456,
          -0.2193,
          -0.30117,
          -0.33041,
          -0.42398,
          -0.56433,
          -0.51754,
          -0.32456,
          -0.16667,
          -0.073099,
          -0.19591,
          -0.3421,
          -0.37719,
          -0.46491,
          -0.42983,
          -0.19591,
          -0.084795,
          -0.23684,
          -0.12573,
          -0.002924,
          -0.31287,
          -0.12573,
          0.01462,
          0.020468,
          0.15497,
          -0.16082,
          -0.31871,
          -0.2193,
          -0.31287,
          -0.45906,
          -0.6462,
          -0.60526,
          -0.58187,
          -0.42983,
          -0.41228,
          -0.48246,
          -0.5117,
          -0.40643,
          -0.29532,
          -0.17252,
          -0.049708,
          -0.049708,
          -0.084795,
          -0.15497,
          -0.21345,
          -0.26608,
          -0.38304,
          -0.48246,
          -0.50585,
          -0.5117,
          -0.55848,
          -0.6579,
          -0.6462,
          -0.55263,
          -0.5,
          -0.42398,
          -0.35965,
          -0.37134,
          -0.30117,
          -0.2076,
          -0.22515,
          -0.27193,
          0.090643,
          0.073099,
          0.061403,
          0.17836,
          0.19591,
          0.30702,
          0.29532,
          0.26608,
          0.16082,
          0.078947,
          0.04386,
          0.04386,
          0.10234,
          0.26608,
          0.30117,
          0.34795,
          0.44152,
          0.44152,
          0.41813,
          0.3538,
          0.2193,
          0.01462,
          -0.12573,
          -0.14328,
          -0.13743,
          -0.084795,
          -0.078947,
          -0.038012,
          -0.0087719,
          0.055556,
          0.13743,
          0.27778,
          0.30117,
          0.19591,
          -0.049708,
          0.067252,
          -0.23099,
          -0.084795,
          0.067252,
          0.11988,
          0.033041,
          0.13129,
          0.25819,
          0.36462,
          -0.069298,
          -0.032456,
          -0.097953,
          -0.18392,
          -0.29035,
          -0.39678,
          0.004386,
          0.086257,
          0.14357,
          0.22953,
          0.3769,
          0.29503,
          0.21725,
          0.028947,
          0.21316,
          0.25819,
          0.40146,
          0.42193,
          0.33187,
          0.3769,
          -0.43772,
          -0.35175,
          -0.20848,
          -0.37632,
          -0.50322,
          -0.46637,
          -0.2576,
          -0.31491,
          -0.3845,
          -0.45409,
          -0.51959,
          -0.54825,
          -0.53597,
          -0.47865,
          -0.50731,
          -0.29854,
          -0.17573,
          -0.12661,
          0.25819,
          0.35643,
          0.18041,
          0.07807,
          -0.052924,
          -0.16345,
          -0.29444,
          -0.46637,
          -0.52778,
          -0.39678,
          -0.41725,
          -0.16754,
          -0.085672,
          -0.016082,
          0.004386,
          0.20497,
          0.19269,
          0.25409,
          0.19269,
          0.086257,
          -0.069298,
          -0.024269,
          0.06579,
          0.16813,
          0.19269,
          0.29912,
          0.31959,
          0.39327,
          0.42193,
          0.50789,
          0.52018,
          0.55292,
          0.4424,
          0.57339,
          0.50789,
          0.55292,
          0.54883,
          0.49152,
          -0.18801,
          -0.03655,
          -0.43363,
          -0.60556,
          -0.5155,
          -0.62193,
          -0.12661,
          -0.22895,
          -0.13479,
          0.1845
         ],
         "z": [
          -0.0674085802,
          -0.1637915268,
          -0.178531018,
          -0.06804968310000001,
          0.08943954359999999,
          0.060749988000000005,
          0.0069733014000000005,
          -0.00825350112,
          -0.019423687970000002,
          -0.103424658,
          -0.0841398375,
          -0.0038604254709999996,
          0.01044944032,
          -0.013696776240000002,
          -0.0441610575,
          -0.0552127224,
          -0.04020139134,
          0.03487851997,
          -0.0188305821,
          -0.063565076,
          0.008589981,
          0.032616711,
          0.0616677224,
          0.09280498220000001,
          0.04551039285,
          -0.0345820228,
          -0.0306611832,
          -0.031107288800000004,
          -0.0045476349880000004,
          -0.0040625856699999996,
          -0.010247263400000001,
          0.037371230820000004,
          0.003213643884,
          -0.056453872200000005,
          -0.0455921752,
          -0.007229028134999999,
          0.031106565600000004,
          -0.00028970706600000006,
          -0.00035707888,
          0.1088568591,
          0.0286802703,
          -0.00111166094,
          0.000896068572,
          0.00178540937,
          0.06706998099999999,
          0.1006071857,
          -0.027791889,
          -0.0641602509,
          -0.1004836434,
          -0.0461574198,
          0.07949484840000001,
          0.1220065016,
          0.0980485213,
          0.0598465648,
          0.032237977200000004,
          -0.069565615,
          -0.10956946370000001,
          -0.08778091680000001,
          -0.0473032588,
          -0.01271331808,
          -0.011109738000000001,
          -0.015435233849999999,
          -0.024638680299999997,
          -0.015246520050000002,
          -0.00429160432,
          0.00970853184,
          0.00555842166,
          0.0011655795700000002,
          -0.012969548200000002,
          -0.014155234079999999,
          -0.0075796659,
          0.0312676794,
          0.047113365389999995,
          0.049539,
          0.006838373420000001,
          -0.04723643100000001,
          -0.08299449,
          -0.0881313771,
          -0.054052812,
          -0.045133569,
          -0.0469922233,
          -0.01190505162,
          -0.010948037229999999,
          -0.014855841819999998,
          -0.053836182399999995,
          -0.0582322884,
          -0.0841818138,
          -0.0959435616,
          -0.10606480959999999,
          -0.0700338936,
          -0.03729061545,
          -0.014855820600000002,
          -0.0118242174,
          -0.0261744784,
          -0.044754656,
          -0.034002093,
          -0.0136292015,
          -0.055953829600000005,
          -0.10275053440000001,
          -0.1416248123,
          -0.145921272,
          -0.111671946,
          -0.0079164376,
          0.0634446153,
          0.07031895839999999,
          0.0497153025,
          0.022859884049999998,
          0.017644654500000002,
          0.007094559679999999,
          0.0013542059219999998,
          -0.0062722724,
          -0.011716319789999999,
          -0.023681578340000002,
          -0.050656794,
          -0.0374658284,
          0.0069864594000000006,
          -0.0020144664080000005,
          0.0463042554,
          0.0091832985,
          0.0023243636240000004,
          0.0096677226,
          -0.01273301017,
          -0.0500503738,
          -0.09093193609999999,
          -0.12917028120000001,
          0.0287170912,
          0.016209175519999997,
          0.029216441309999997,
          0.0582916048,
          0.107075273,
          0.1413885852,
          -0.00118996566,
          -0.01535288343,
          -0.0353799551,
          -0.05751562740000001,
          -0.083498426,
          -0.06352585960000001,
          -0.028307675,
          -0.00599289741,
          -0.020702099199999997,
          -0.010083610449999999,
          0.007631353140000001,
          -0.01560381526,
          -0.021219767799999997,
          -0.04911007,
          0.16414499999999999,
          0.139201545,
          0.0738561248,
          0.16453086719999999,
          0.24192804720000002,
          0.1913282925,
          0.0640136,
          0.0717239016,
          0.10910572,
          0.13261698449999998,
          0.17544995530000002,
          0.1521558225,
          0.11096186909999999,
          0.08916770850000001,
          0.0671526247,
          0.05313713460000001,
          0.0290921015,
          0.0204361201,
          0.00008923562779999998,
          0.02821036521,
          -0.00480125133,
          -0.00418228797,
          0.000749986004,
          0.011467815450000002,
          0.018826493599999997,
          0.014345541199999999,
          0.030462933820000003,
          0.02125590138,
          -0.02177586025,
          0.0027215197600000004,
          0.00547786768,
          0.0009949290119999998,
          -0.0000166746948,
          0.008571845400000002,
          0.01525083543,
          0.01168000912,
          0.0228433995,
          0.00950983425,
          -0.0074966576399999995,
          -0.00403447856,
          0.0093000744,
          0.0241148859,
          0.0328324491,
          0.0323588016,
          0.0378873945,
          0.0498823668,
          -0.03660284943,
          -0.0240485915,
          0.013124141399999999,
          0.03458956936,
          -0.00259936544,
          -0.029528438219999998,
          -0.040900381699999995,
          -0.0846575812,
          -0.06127138120000001,
          -0.0803536896,
          0.0475007265,
          0.0090070165,
          0.13922992039999998,
          0.20071286200000002,
          0.198658235,
          0.2486973684,
          0.0157097688,
          0.072563413,
          0.039644434799999996,
          -0.028248795
         ]
        }
       ],
       "layout": {
        "coloraxis": {
         "colorbar": {
          "title": {
           "text": "Y"
          }
         },
         "colorscale": [
          [
           0,
           "#0d0887"
          ],
          [
           0.1111111111111111,
           "#46039f"
          ],
          [
           0.2222222222222222,
           "#7201a8"
          ],
          [
           0.3333333333333333,
           "#9c179e"
          ],
          [
           0.4444444444444444,
           "#bd3786"
          ],
          [
           0.5555555555555556,
           "#d8576b"
          ],
          [
           0.6666666666666666,
           "#ed7953"
          ],
          [
           0.7777777777777778,
           "#fb9f3a"
          ],
          [
           0.8888888888888888,
           "#fdca26"
          ],
          [
           1,
           "#f0f921"
          ]
         ]
        },
        "legend": {
         "tracegroupgap": 0
        },
        "margin": {
         "t": 60
        },
        "scene": {
         "domain": {
          "x": [
           0,
           1
          ],
          "y": [
           0,
           1
          ]
         },
         "xaxis": {
          "title": {
           "text": "X1"
          }
         },
         "yaxis": {
          "title": {
           "text": "X2"
          }
         },
         "zaxis": {
          "title": {
           "text": "X1_*_X2"
          }
         }
        },
        "template": {
         "data": {
          "bar": [
           {
            "error_x": {
             "color": "#2a3f5f"
            },
            "error_y": {
             "color": "#2a3f5f"
            },
            "marker": {
             "line": {
              "color": "#E5ECF6",
              "width": 0.5
             },
             "pattern": {
              "fillmode": "overlay",
              "size": 10,
              "solidity": 0.2
             }
            },
            "type": "bar"
           }
          ],
          "barpolar": [
           {
            "marker": {
             "line": {
              "color": "#E5ECF6",
              "width": 0.5
             },
             "pattern": {
              "fillmode": "overlay",
              "size": 10,
              "solidity": 0.2
             }
            },
            "type": "barpolar"
           }
          ],
          "carpet": [
           {
            "aaxis": {
             "endlinecolor": "#2a3f5f",
             "gridcolor": "white",
             "linecolor": "white",
             "minorgridcolor": "white",
             "startlinecolor": "#2a3f5f"
            },
            "baxis": {
             "endlinecolor": "#2a3f5f",
             "gridcolor": "white",
             "linecolor": "white",
             "minorgridcolor": "white",
             "startlinecolor": "#2a3f5f"
            },
            "type": "carpet"
           }
          ],
          "choropleth": [
           {
            "colorbar": {
             "outlinewidth": 0,
             "ticks": ""
            },
            "type": "choropleth"
           }
          ],
          "contour": [
           {
            "colorbar": {
             "outlinewidth": 0,
             "ticks": ""
            },
            "colorscale": [
             [
              0,
              "#0d0887"
             ],
             [
              0.1111111111111111,
              "#46039f"
             ],
             [
              0.2222222222222222,
              "#7201a8"
             ],
             [
              0.3333333333333333,
              "#9c179e"
             ],
             [
              0.4444444444444444,
              "#bd3786"
             ],
             [
              0.5555555555555556,
              "#d8576b"
             ],
             [
              0.6666666666666666,
              "#ed7953"
             ],
             [
              0.7777777777777778,
              "#fb9f3a"
             ],
             [
              0.8888888888888888,
              "#fdca26"
             ],
             [
              1,
              "#f0f921"
             ]
            ],
            "type": "contour"
           }
          ],
          "contourcarpet": [
           {
            "colorbar": {
             "outlinewidth": 0,
             "ticks": ""
            },
            "type": "contourcarpet"
           }
          ],
          "heatmap": [
           {
            "colorbar": {
             "outlinewidth": 0,
             "ticks": ""
            },
            "colorscale": [
             [
              0,
              "#0d0887"
             ],
             [
              0.1111111111111111,
              "#46039f"
             ],
             [
              0.2222222222222222,
              "#7201a8"
             ],
             [
              0.3333333333333333,
              "#9c179e"
             ],
             [
              0.4444444444444444,
              "#bd3786"
             ],
             [
              0.5555555555555556,
              "#d8576b"
             ],
             [
              0.6666666666666666,
              "#ed7953"
             ],
             [
              0.7777777777777778,
              "#fb9f3a"
             ],
             [
              0.8888888888888888,
              "#fdca26"
             ],
             [
              1,
              "#f0f921"
             ]
            ],
            "type": "heatmap"
           }
          ],
          "heatmapgl": [
           {
            "colorbar": {
             "outlinewidth": 0,
             "ticks": ""
            },
            "colorscale": [
             [
              0,
              "#0d0887"
             ],
             [
              0.1111111111111111,
              "#46039f"
             ],
             [
              0.2222222222222222,
              "#7201a8"
             ],
             [
              0.3333333333333333,
              "#9c179e"
             ],
             [
              0.4444444444444444,
              "#bd3786"
             ],
             [
              0.5555555555555556,
              "#d8576b"
             ],
             [
              0.6666666666666666,
              "#ed7953"
             ],
             [
              0.7777777777777778,
              "#fb9f3a"
             ],
             [
              0.8888888888888888,
              "#fdca26"
             ],
             [
              1,
              "#f0f921"
             ]
            ],
            "type": "heatmapgl"
           }
          ],
          "histogram": [
           {
            "marker": {
             "pattern": {
              "fillmode": "overlay",
              "size": 10,
              "solidity": 0.2
             }
            },
            "type": "histogram"
           }
          ],
          "histogram2d": [
           {
            "colorbar": {
             "outlinewidth": 0,
             "ticks": ""
            },
            "colorscale": [
             [
              0,
              "#0d0887"
             ],
             [
              0.1111111111111111,
              "#46039f"
             ],
             [
              0.2222222222222222,
              "#7201a8"
             ],
             [
              0.3333333333333333,
              "#9c179e"
             ],
             [
              0.4444444444444444,
              "#bd3786"
             ],
             [
              0.5555555555555556,
              "#d8576b"
             ],
             [
              0.6666666666666666,
              "#ed7953"
             ],
             [
              0.7777777777777778,
              "#fb9f3a"
             ],
             [
              0.8888888888888888,
              "#fdca26"
             ],
             [
              1,
              "#f0f921"
             ]
            ],
            "type": "histogram2d"
           }
          ],
          "histogram2dcontour": [
           {
            "colorbar": {
             "outlinewidth": 0,
             "ticks": ""
            },
            "colorscale": [
             [
              0,
              "#0d0887"
             ],
             [
              0.1111111111111111,
              "#46039f"
             ],
             [
              0.2222222222222222,
              "#7201a8"
             ],
             [
              0.3333333333333333,
              "#9c179e"
             ],
             [
              0.4444444444444444,
              "#bd3786"
             ],
             [
              0.5555555555555556,
              "#d8576b"
             ],
             [
              0.6666666666666666,
              "#ed7953"
             ],
             [
              0.7777777777777778,
              "#fb9f3a"
             ],
             [
              0.8888888888888888,
              "#fdca26"
             ],
             [
              1,
              "#f0f921"
             ]
            ],
            "type": "histogram2dcontour"
           }
          ],
          "mesh3d": [
           {
            "colorbar": {
             "outlinewidth": 0,
             "ticks": ""
            },
            "type": "mesh3d"
           }
          ],
          "parcoords": [
           {
            "line": {
             "colorbar": {
              "outlinewidth": 0,
              "ticks": ""
             }
            },
            "type": "parcoords"
           }
          ],
          "pie": [
           {
            "automargin": true,
            "type": "pie"
           }
          ],
          "scatter": [
           {
            "marker": {
             "colorbar": {
              "outlinewidth": 0,
              "ticks": ""
             }
            },
            "type": "scatter"
           }
          ],
          "scatter3d": [
           {
            "line": {
             "colorbar": {
              "outlinewidth": 0,
              "ticks": ""
             }
            },
            "marker": {
             "colorbar": {
              "outlinewidth": 0,
              "ticks": ""
             }
            },
            "type": "scatter3d"
           }
          ],
          "scattercarpet": [
           {
            "marker": {
             "colorbar": {
              "outlinewidth": 0,
              "ticks": ""
             }
            },
            "type": "scattercarpet"
           }
          ],
          "scattergeo": [
           {
            "marker": {
             "colorbar": {
              "outlinewidth": 0,
              "ticks": ""
             }
            },
            "type": "scattergeo"
           }
          ],
          "scattergl": [
           {
            "marker": {
             "colorbar": {
              "outlinewidth": 0,
              "ticks": ""
             }
            },
            "type": "scattergl"
           }
          ],
          "scattermapbox": [
           {
            "marker": {
             "colorbar": {
              "outlinewidth": 0,
              "ticks": ""
             }
            },
            "type": "scattermapbox"
           }
          ],
          "scatterpolar": [
           {
            "marker": {
             "colorbar": {
              "outlinewidth": 0,
              "ticks": ""
             }
            },
            "type": "scatterpolar"
           }
          ],
          "scatterpolargl": [
           {
            "marker": {
             "colorbar": {
              "outlinewidth": 0,
              "ticks": ""
             }
            },
            "type": "scatterpolargl"
           }
          ],
          "scatterternary": [
           {
            "marker": {
             "colorbar": {
              "outlinewidth": 0,
              "ticks": ""
             }
            },
            "type": "scatterternary"
           }
          ],
          "surface": [
           {
            "colorbar": {
             "outlinewidth": 0,
             "ticks": ""
            },
            "colorscale": [
             [
              0,
              "#0d0887"
             ],
             [
              0.1111111111111111,
              "#46039f"
             ],
             [
              0.2222222222222222,
              "#7201a8"
             ],
             [
              0.3333333333333333,
              "#9c179e"
             ],
             [
              0.4444444444444444,
              "#bd3786"
             ],
             [
              0.5555555555555556,
              "#d8576b"
             ],
             [
              0.6666666666666666,
              "#ed7953"
             ],
             [
              0.7777777777777778,
              "#fb9f3a"
             ],
             [
              0.8888888888888888,
              "#fdca26"
             ],
             [
              1,
              "#f0f921"
             ]
            ],
            "type": "surface"
           }
          ],
          "table": [
           {
            "cells": {
             "fill": {
              "color": "#EBF0F8"
             },
             "line": {
              "color": "white"
             }
            },
            "header": {
             "fill": {
              "color": "#C8D4E3"
             },
             "line": {
              "color": "white"
             }
            },
            "type": "table"
           }
          ]
         },
         "layout": {
          "annotationdefaults": {
           "arrowcolor": "#2a3f5f",
           "arrowhead": 0,
           "arrowwidth": 1
          },
          "autotypenumbers": "strict",
          "coloraxis": {
           "colorbar": {
            "outlinewidth": 0,
            "ticks": ""
           }
          },
          "colorscale": {
           "diverging": [
            [
             0,
             "#8e0152"
            ],
            [
             0.1,
             "#c51b7d"
            ],
            [
             0.2,
             "#de77ae"
            ],
            [
             0.3,
             "#f1b6da"
            ],
            [
             0.4,
             "#fde0ef"
            ],
            [
             0.5,
             "#f7f7f7"
            ],
            [
             0.6,
             "#e6f5d0"
            ],
            [
             0.7,
             "#b8e186"
            ],
            [
             0.8,
             "#7fbc41"
            ],
            [
             0.9,
             "#4d9221"
            ],
            [
             1,
             "#276419"
            ]
           ],
           "sequential": [
            [
             0,
             "#0d0887"
            ],
            [
             0.1111111111111111,
             "#46039f"
            ],
            [
             0.2222222222222222,
             "#7201a8"
            ],
            [
             0.3333333333333333,
             "#9c179e"
            ],
            [
             0.4444444444444444,
             "#bd3786"
            ],
            [
             0.5555555555555556,
             "#d8576b"
            ],
            [
             0.6666666666666666,
             "#ed7953"
            ],
            [
             0.7777777777777778,
             "#fb9f3a"
            ],
            [
             0.8888888888888888,
             "#fdca26"
            ],
            [
             1,
             "#f0f921"
            ]
           ],
           "sequentialminus": [
            [
             0,
             "#0d0887"
            ],
            [
             0.1111111111111111,
             "#46039f"
            ],
            [
             0.2222222222222222,
             "#7201a8"
            ],
            [
             0.3333333333333333,
             "#9c179e"
            ],
            [
             0.4444444444444444,
             "#bd3786"
            ],
            [
             0.5555555555555556,
             "#d8576b"
            ],
            [
             0.6666666666666666,
             "#ed7953"
            ],
            [
             0.7777777777777778,
             "#fb9f3a"
            ],
            [
             0.8888888888888888,
             "#fdca26"
            ],
            [
             1,
             "#f0f921"
            ]
           ]
          },
          "colorway": [
           "#636efa",
           "#EF553B",
           "#00cc96",
           "#ab63fa",
           "#FFA15A",
           "#19d3f3",
           "#FF6692",
           "#B6E880",
           "#FF97FF",
           "#FECB52"
          ],
          "font": {
           "color": "#2a3f5f"
          },
          "geo": {
           "bgcolor": "white",
           "lakecolor": "white",
           "landcolor": "#E5ECF6",
           "showlakes": true,
           "showland": true,
           "subunitcolor": "white"
          },
          "hoverlabel": {
           "align": "left"
          },
          "hovermode": "closest",
          "mapbox": {
           "style": "light"
          },
          "paper_bgcolor": "white",
          "plot_bgcolor": "#E5ECF6",
          "polar": {
           "angularaxis": {
            "gridcolor": "white",
            "linecolor": "white",
            "ticks": ""
           },
           "bgcolor": "#E5ECF6",
           "radialaxis": {
            "gridcolor": "white",
            "linecolor": "white",
            "ticks": ""
           }
          },
          "scene": {
           "xaxis": {
            "backgroundcolor": "#E5ECF6",
            "gridcolor": "white",
            "gridwidth": 2,
            "linecolor": "white",
            "showbackground": true,
            "ticks": "",
            "zerolinecolor": "white"
           },
           "yaxis": {
            "backgroundcolor": "#E5ECF6",
            "gridcolor": "white",
            "gridwidth": 2,
            "linecolor": "white",
            "showbackground": true,
            "ticks": "",
            "zerolinecolor": "white"
           },
           "zaxis": {
            "backgroundcolor": "#E5ECF6",
            "gridcolor": "white",
            "gridwidth": 2,
            "linecolor": "white",
            "showbackground": true,
            "ticks": "",
            "zerolinecolor": "white"
           }
          },
          "shapedefaults": {
           "line": {
            "color": "#2a3f5f"
           }
          },
          "ternary": {
           "aaxis": {
            "gridcolor": "white",
            "linecolor": "white",
            "ticks": ""
           },
           "baxis": {
            "gridcolor": "white",
            "linecolor": "white",
            "ticks": ""
           },
           "bgcolor": "#E5ECF6",
           "caxis": {
            "gridcolor": "white",
            "linecolor": "white",
            "ticks": ""
           }
          },
          "title": {
           "x": 0.05
          },
          "xaxis": {
           "automargin": true,
           "gridcolor": "white",
           "linecolor": "white",
           "ticks": "",
           "title": {
            "standoff": 15
           },
           "zerolinecolor": "white",
           "zerolinewidth": 2
          },
          "yaxis": {
           "automargin": true,
           "gridcolor": "white",
           "linecolor": "white",
           "ticks": "",
           "title": {
            "standoff": 15
           },
           "zerolinecolor": "white",
           "zerolinewidth": 2
          }
         }
        }
       }
      }
     },
     "metadata": {},
     "output_type": "display_data"
    }
   ],
   "source": [
    "dataset_1 = pd.read_csv(\"d1.csv\", header=None)\n",
    "dataset_2 = pd.read_csv(\"d2.csv\", header=None)\n",
    "dataset_3 = pd.read_csv(\"d3.csv\", header=None)\n",
    "\n",
    "def plot_data(dataset):\n",
    "    dataset.columns = ['X1', 'X2', 'Y']\n",
    "    dataset[\"X1_Squared\"] = dataset.X1**2\n",
    "    dataset[\"X2_Squared\"] = dataset.X2**2\n",
    "    dataset[\"X1_*_X2\"] = dataset.X1 * dataset.X2\n",
    "    print(dataset.head(5))\n",
    "    X = dataset.iloc[:, :-1]\n",
    "    y = dataset.iloc[:, -1]\n",
    "    X_train, X_test, y_train, y_test = train_test_split(X, y, test_size=0.25, random_state=0)\n",
    "    # fig = px.scatter_3d(dataset, x=\"X1_Squared\", y=\"X2_Squared\", z=\"X1_*_X2\", color=\"Y\")\n",
    "    fig = px.scatter_3d(dataset, x=\"X1\", y=\"X2\", z=\"X1_*_X2\", color=\"Y\")\n",
    "    fig.show()\n",
    "    # fig = px.scatter_3d(dataset, x=\"X1_Squared\", y=\"X2_Squared\", z=\"X1_*_X2\", color=\"Y\")\n",
    "    # fig.show()\n",
    "\n",
    "plot_data(dataset_1)\n",
    "plot_data(dataset_2)\n",
    "plot_data(dataset_3)"
   ]
  },
  {
   "cell_type": "code",
   "execution_count": 11,
   "metadata": {},
   "outputs": [
    {
     "name": "stdout",
     "output_type": "stream",
     "text": [
      "z_model-1:  (250000,)\n",
      "z_model-2:  (500, 500)\n",
      "z_model-3:  (500, 500)\n",
      "z_model-1:  (250000,)\n",
      "z_model-2:  (500, 500)\n",
      "z_model-3:  (500, 500)\n",
      "z_model-1:  (250000,)\n",
      "z_model-2:  (500, 500)\n",
      "z_model-3:  (500, 500)\n",
      "z_model-1:  (250000,)\n",
      "z_model-2:  (500, 500)\n",
      "z_model-3:  (500, 500)\n",
      "z_model-1:  (250000,)\n",
      "z_model-2:  (500, 500)\n",
      "z_model-3:  (500, 500)\n",
      "z_model-1:  (250000,)\n",
      "z_model-2:  (500, 500)\n",
      "z_model-3:  (500, 500)\n",
      "SKLearn rbf: \n"
     ]
    },
    {
     "data": {
      "image/png": "[encoded data removed]",
      "text/plain": [
       "<Figure size 864x288 with 2 Axes>"
      ]
     },
     "metadata": {},
     "output_type": "display_data"
    },
    {
     "data": {
      "image/png": "[encoded data removed]",
      "text/plain": [
       "<Figure size 864x288 with 2 Axes>"
      ]
     },
     "metadata": {},
     "output_type": "display_data"
    },
    {
     "data": {
      "image/png": "[encoded data removed]",
      "text/plain": [
       "<Figure size 864x288 with 2 Axes>"
      ]
     },
     "metadata": {},
     "output_type": "display_data"
    },
    {
     "data": {
      "image/png": "[encoded data removed]",
      "text/plain": [
       "<Figure size 576x576 with 1 Axes>"
      ]
     },
     "metadata": {},
     "output_type": "display_data"
    },
    {
     "name": "stdout",
     "output_type": "stream",
     "text": [
      "custom svm:\n"
     ]
    },
    {
     "data": {
      "image/png": "[encoded data removed]",
      "text/plain": [
       "<Figure size 576x576 with 1 Axes>"
      ]
     },
     "metadata": {},
     "output_type": "display_data"
    }
   ],
   "source": [
    "from sklearn.svm import SVC\n",
    "from matplotlib.colors import ListedColormap\n",
    "from sklearn.datasets import make_blobs, make_circles\n",
    "from sklearn import datasets, svm\n",
    "import seaborn as sns\n",
    "import matplotlib.pyplot as plt\n",
    "from sklearn.metrics import confusion_matrix\n",
    "from sklearn.model_selection import train_test_split\n",
    "import numpy as np\n",
    "\n",
    "\n",
    "class SVM:\n",
    "    def __init__(self, kernel='linear', C=10000.0, max_iter=100000, degree=3, gamma=1):\n",
    "        self.kernel = {'poly': lambda x, y: np.dot(x, y.T)**degree,\n",
    "                       'rbf': lambda x, y: np.exp(-gamma*np.sum((y-x[:, np.newaxis])**2, axis=-1)),\n",
    "                       'linear': lambda x, y: np.dot(x, y.T)}[kernel]\n",
    "        self.C = C\n",
    "        self.max_iter = max_iter\n",
    "\n",
    "    #   \n",
    "    def restrict_to_square(self, t, v0, u):\n",
    "        t = (np.clip(v0 + t*u, 0, self.C) - v0)[1]/u[1]\n",
    "        return (np.clip(v0 + t*u, 0, self.C) - v0)[0]/u[0]\n",
    "\n",
    "    def fit(self, X, y):\n",
    "        self.X = X.copy()\n",
    "        #   0,1  -1,+1;     sklearn\n",
    "        self.y = y * 2 - 1\n",
    "        self.lambdas = np.zeros_like(self.y, dtype=float)\n",
    "        #  (3)\n",
    "        self.K = self.kernel(self.X, self.X) * self.y[:, np.newaxis] * self.y\n",
    "\n",
    "        #  self.max_iter\n",
    "        for _ in range(self.max_iter):\n",
    "            #\n",
    "            for idxM in range(len(self.lambdas)): # idxM is index of the margin\n",
    "                # idxL\n",
    "                idxL = np.random.randint(0, len(self.lambdas)) # idxL is index of the lambda\n",
    "                #  (4)\n",
    "                Q = self.K[[[idxM, idxM], [idxL, idxL]], # Q is the matrix of the quadratic term\n",
    "                           [[idxM, idxL], [idxM, idxL]]] \n",
    "                #  (4a)\n",
    "                v0 = self.lambdas[[idxM, idxL]]\n",
    "                #  (4b)\n",
    "                k0 = 1 - np.sum(self.lambdas * self.K[[idxM, idxL]], axis=1) \n",
    "                #  (4d)\n",
    "                u = np.array([-self.y[idxL], self.y[idxM]])\n",
    "                #   (5),    idxM = idxL\n",
    "                t_max = np.dot(k0, u) / (np.dot(np.dot(Q, u), u) + 1E-15)\n",
    "                self.lambdas[[idxM, idxL]] = v0 + u * \\\n",
    "                    self.restrict_to_square(t_max, v0, u)\n",
    "\n",
    "        #\n",
    "        idx, = np.nonzero(self.lambdas > 1E-15)\n",
    "        #  (1)\n",
    "        self.b = np.mean(\n",
    "            (1.0-np.sum(self.K[idx]*self.lambdas, axis=1))*self.y[idx])\n",
    "\n",
    "    def decision_function(self, X):\n",
    "        return np.sum(self.kernel(X, self.X) * self.y * self.lambdas, axis=1) + self.b\n",
    "\n",
    "    def predict(self, X):\n",
    "        #   -1,+1  0,1;     sklearn\n",
    "        return (np.sign(self.decision_function(X)) + 1) // 2\n",
    "\n",
    "sns.set()\n",
    "\n",
    "def test_plot(X, y, svm_model, axes, title):\n",
    "    plt.axes(axes) \n",
    "    xlim = [np.min(X[:, 0]), np.max(X[:, 0])] # xlim is the x-axis limits\n",
    "    ylim = [np.min(X[:, 1]), np.max(X[:, 1])] # ylim is the y-axis limits \n",
    "    xx, yy = np.meshgrid(np.linspace(*xlim, num=500), # meshgrid is used to return a coordinate grid of X and Y and n\n",
    "                         np.linspace(*ylim, num=500))\n",
    "    rgb = np.array([[210, 0, 0], [0, 0, 150]])/255.0 # rgb is the color of the points\n",
    "\n",
    "    svm_model.fit(X, y)\n",
    "    z_model = svm_model.decision_function(np.c_[xx.ravel(), yy.ravel()])\n",
    "    print(\"z_model-1: \", z_model.shape)\n",
    "\n",
    "    z_model = z_model.reshape(xx.shape) # z_model is the decision function of the model i.e. the value of the hyperplane and ravel\n",
    "    print(\"z_model-2: \", z_model.shape)\n",
    "\n",
    "    plt.scatter(X[:, 0], X[:, 1], c=y, s=50, cmap='autumn') # X[:, 0] is the first column of X, X[:, 1] is the second column of X and c=y means that the color of the points is the same as the class of the points\n",
    "    print(\"z_model-3: \", z_model.shape)\n",
    "\n",
    "    plt.contour(xx, yy, z_model, colors='k', levels=[-1, 0, 1], alpha=0.5, linestyles=['--', '-', '--']) # \n",
    "    plt.contourf(xx, yy, np.sign(z_model.reshape(xx.shape)), alpha=0.3, levels=2, cmap=ListedColormap(rgb), zorder=1)\n",
    "    plt.title(title)\n",
    "\n",
    "dataset = pd.read_csv('d1.csv', header=None)\n",
    "X = dataset.iloc[:, :-1].values\n",
    "y = dataset.iloc[:, -1].values\n",
    "X_train, X_test, y_train, y_test = train_test_split(X, y, test_size=0.2, shuffle=True)\n",
    "\n",
    "# X, y = make_circles(100, factor=.1, noise=.1)\n",
    "fig, axs = plt.subplots(nrows=1, ncols=2, figsize=(12, 4))\n",
    "test_plot(X, y, SVM(kernel='rbf', C=10, max_iter=10, gamma=1), axs[0], 'OUR ALGORITHM')\n",
    "test_plot(X, y, SVC(kernel='rbf', C=10, gamma=1), axs[1], 'sklearn.svm.SVC')\n",
    "\n",
    "# X, y = make_blobs(n_samples=50, centers=2, random_state=0, cluster_std=1.4)\n",
    "fig, axs = plt.subplots(nrows=1, ncols=2, figsize=(12, 4))\n",
    "test_plot(X, y, SVM(kernel='linear', C=10, max_iter=10), axs[0], 'OUR ALGORITHM')\n",
    "test_plot(X, y, SVC(kernel='linear', C=10), axs[1], 'sklearn.svm.SVC')\n",
    "\n",
    "fig, axs = plt.subplots(nrows=1, ncols=2, figsize=(12, 4))\n",
    "test_plot(X, y, SVM(kernel='poly', C=5, max_iter=10, degree=3), axs[0], 'OUR ALGORITHM')\n",
    "test_plot(X, y, SVC(kernel='poly', C=5, degree=3), axs[1], 'sklearn.svm.SVC')\n",
    "\n",
    "# class_A = 3\n",
    "# class_B = 8\n",
    "\n",
    "class_A = 1\n",
    "class_B = 0\n",
    "\n",
    "def plot_confusion(clf):\n",
    "    clf.fit(X_train, y_train)\n",
    "    y_fit = clf.predict(X_test)\n",
    "\n",
    "    mat = confusion_matrix(y_test, y_fit)\n",
    "    plt.figure(figsize=(8, 8))\n",
    "    sns.heatmap(mat.T, square=True, annot=True, fmt='d', cbar=False,\n",
    "                xticklabels=[class_A, class_B], yticklabels=[class_A, class_B])\n",
    "    plt.xlabel('true label')\n",
    "    plt.ylabel('predicted label')\n",
    "    plt.show()\n",
    "\n",
    "\n",
    "print('SKLearn rbf: ')\n",
    "plot_confusion(svm.SVC(C=1.0, kernel='rbf', gamma=0.001))\n",
    "print('custom svm:')\n",
    "plot_confusion(SVM(kernel='rbf', C=1.0, max_iter=60, gamma=0.001))\n",
    "\n",
    "test_cases = [ # (kernel, C, max_iter, gamma)\n",
    "    ('linear', 1.0, 60, None),  \n",
    "    ('poly', 1.0, 60, 3),\n",
    "    ('rbf', 1.0, 60, 0.001)]\n",
    "\n",
    "# # call test_cases\n",
    "# for kernel, C, max_iter, gamma in test_cases:\n",
    "#     print('kernel: {}, C: {}, max_iter: {}, gamma: {}'.format(\n",
    "#         kernel, C, max_iter, gamma))\n",
    "#     plot_confusion(SVM(kernel=kernel, C=C, max_iter=max_iter, gamma=gamma)) "
   ]
  },
  {
   "cell_type": "code",
   "execution_count": null,
   "metadata": {},
   "outputs": [],
   "source": [
    "# Support Vector Machine - Optimal Margin Calssifier\n",
    "import numpy as np\n",
    "import cvxopt\n",
    "from utils import *\n",
    "from sklearn.svm import SVC\n",
    "\n",
    "\n",
    "def linear_kernel(x, z):\n",
    "    return np.dot(x, z.T) \n",
    "\n",
    "\n",
    "def polynomial_kernel(x, z, p=5):\n",
    "    return (np.dot(x, z.T) + 1) ** p # (x^T * z) + c where c is a constant\n",
    "\n",
    "\n",
    "def guassian_kernel(x, z, sigma=.1):\n",
    "    # e ^ (-||x - z||^2 / 2 * sigma^2) where ||x - z|| is L2 norm of difference between x and z\n",
    "    return np.exp(-np.linalg.norm(x - z, axis=1)**2 / (2 * (sigma**2)))\n",
    "\n",
    "\n",
    "class SVM():\n",
    "    def __init__(self, kernel=guassian_kernel, C=1):\n",
    "        self.kernel = kernel\n",
    "        self.C = C\n",
    "\n",
    "    def fit(self, X, y):\n",
    "        self.X = X\n",
    "        self.y = y\n",
    "        m_samples, n_features = X.shape\n",
    "        # calculate the kernel matrix\n",
    "        self.K = np.zeros((m_samples, m_samples))\n",
    "        # self.K = np.array([self.kernel(X[i], X[j]) for i in range(m_samples) for j in range(m_samples)])\n",
    "        for i in range(m_samples):\n",
    "            self.K[i, :] = self.kernel(X[i, np.newaxis], self.X)\n",
    "\n",
    "        P = cvxopt.matrix(np.outer(y, y) * self.K) # P is a matrix of size m_samples x m_samples\n",
    "        q = cvxopt.matrix(-np.ones((m_samples, 1))) # q is a vector of size m_samples x 1\n",
    "        G = cvxopt.matrix(\n",
    "            np.vstack((np.eye(m_samples) * -1, np.eye(m_samples)))) # G is a matrix of size 2m_samples x m_samples\n",
    "        h = cvxopt.matrix(\n",
    "            np.hstack((np.zeros(m_samples), np.ones(m_samples) * self.C))) # h is a vector of size 2m_samples x 1\n",
    "        A = cvxopt.matrix(y, (1, m_samples), \"d\") # A is a vector of size 1 x m_samples\n",
    "        b = cvxopt.matrix(np.zeros(1)) # b is a vector of size 1 x 1\n",
    "        cvxopt.solvers.options['show_progress'] = False # \n",
    "        sol = cvxopt.solvers.qp(P, q, G, h, A, b)  # sol is a dictionary with keys ['x', 'primal objective', 'status']\n",
    "        self.alphas = np.array(sol['x'])\n",
    "\n",
    "    def predict(self, X):\n",
    "        y_predict = np.zeros((X.shape[0]))\n",
    "        sv = self.get_params(self.alphas)\n",
    "\n",
    "        for i in range(X.shape[0]):\n",
    "            y_predict[i] = np.sum(\n",
    "                self.alphas[sv]\n",
    "                * self.y[sv, np.newaxis]\n",
    "                * self.kernel(X[i], self.X[sv])[:, np.newaxis]\n",
    "            )\n",
    "        return np.sign(y_predict + self.b)\n",
    "\n",
    "    def get_params(self, alphas):\n",
    "        threshold = 1e-4\n",
    "        sv = ((alphas > threshold) * (alphas < self.C)).flatten()\n",
    "        self.w = np.dot(self.X[sv].T, alphas[sv]*self.y[sv, np.newaxis])\n",
    "        self.b = np.mean(self.y[sv, np.newaxis] - self.alphas[sv]\n",
    "                         * self.y[sv, np.newaxis] * self.K[sv, sv][:, np.newaxis])\n",
    "        return sv\n",
    "\n",
    "if __name__ == '__main__':\n",
    "    # np.random.seed(1)\n",
    "    X, y = create_dataset(N=50)\n",
    "    svm = SVM(kernel=guassian_kernel)\n",
    "    svm.fit(X, y)\n",
    "    y_pred = svm.predict(X)\n",
    "    print('Accuracy: %.2f' % (np.mean(y_pred == y) * 100))\n",
    "    plot_contour(X, y, svm)\n",
    "\n",
    "    # SVM with SKLearn gussian kernel\n",
    "    clf = SVC(C=10, kernel='rbf', gamma=10)\n",
    "    clf.fit(X, y)\n",
    "    y_pred = clf.predict(X)\n",
    "    print('Accuracy: %.2f' % (np.mean(y_pred == y) * 100))\n",
    "    plot_contour(X, y, clf)"
   ]
  },
  {
   "cell_type": "code",
   "execution_count": null,
   "metadata": {},
   "outputs": [],
   "source": [
    "# ToDo\n",
    "# PART A: implement SVM\n",
    "# test it on 'd1.csv'\n",
    "# plot decision boundry including data\n",
    "# Change C in range [0.1 - 1 - 10 - 100] and analyize output\n",
    "# consider tolerance=0.001, max_passes=5\n"
   ]
  },
  {
   "cell_type": "code",
   "execution_count": null,
   "metadata": {},
   "outputs": [],
   "source": [
    "# ToDo\n",
    "# PART B: Implement Guassian Kernel\n",
    "# Output shoud be approximatly as '324652.0'\n",
    "# Consider x_1=[1;2;1], x_2=[0;4;-1], sigma=2.0"
   ]
  },
  {
   "cell_type": "code",
   "execution_count": null,
   "metadata": {},
   "outputs": [],
   "source": [
    "# ToDo:\n",
    "# Part C: Test algorithm on 'd2.csv'\n",
    "# Plot decision boundry"
   ]
  },
  {
   "cell_type": "code",
   "execution_count": null,
   "metadata": {},
   "outputs": [],
   "source": [
    "# ToDo:\n",
    "# Part D: Test algorithm on 'd3.csv'\n",
    "# Change C and sigma in range [0.001, 0.03, 0.1, 0.3, 1, 3, 10, 100]\n",
    "# by considering accuracy get best parameters by tuning with validation data ('d3-validation.csv')"
   ]
  },
  {
   "cell_type": "code",
   "execution_count": null,
   "metadata": {},
   "outputs": [],
   "source": [
    "# ToDo:\n",
    "# Part E:\n",
    "# plot decision boundry for train data\n",
    "# plot decision boundry for validation data"
   ]
  },
  {
   "cell_type": "code",
   "execution_count": null,
   "metadata": {},
   "outputs": [],
   "source": [
    "import matplotlib.pyplot as plt\n",
    "from matplotlib.colors import ListedColormap\n",
    "from sklearn.model_selection import train_test_split\n",
    "from sklearn.metrics import accuracy_score\n",
    "# from sklearn.svm import SVC\n",
    "import numpy as np \n",
    "\n",
    "from sklearn.datasets import make_circles\n",
    "\n",
    "X, y = make_circles(100, factor=.1, noise=.1)\n",
    "plt.scatter(X[:, 0], X[:, 1], c=y, s=50, cmap='bwr')\n",
    "X_train, X_test, y_train, y_test = train_test_split(X, y, test_size = 0.34, shuffle=True)\n",
    "classifier = SVC(kernel=\"rbf\", C=1, gamma=100)\n",
    "classifier.fit(X_train, y_train.ravel())\n",
    "y_pred = classifier.predict(X_test)\n",
    "# print(accuracy_score(y_test, y_pred))\n",
    "\n",
    "distinct_colour = ListedColormap(['#FFAAAA', '#AAFFAA']) # Red and Green colors for the points\n",
    "def plot_decision_boundry(X, y, classifier):\n",
    "    x_min, x_max = X[:, 0].min() - 1, X[:, 0].max() + 1 # value 1 is added to avoid points on the boundary and x_min and x_max are the min and max values of x, plus X\n",
    "    y_min, y_max = X[:, 1].min() - 1, X[:, 1].max() + 1 # y_min and y_max are used to set the range of y axis\n",
    "    xx, yy = np.meshgrid(np.arange(x_min, x_max, 0.1), # meshgrid is used to create a grid of points\n",
    "                            np.arange(y_min, y_max, 0.1))  # x_min, x_max, y_min, y_max are the range of x and y\n",
    "    Z = classifier.predict(np.c_[xx.ravel(), yy.ravel()]) # xx.ravel() and yy.ravel() are used to flatten the grid because the grid is a 2D array and we need to convert it to a 1D array\n",
    "    Z = Z.reshape(xx.shape) # we need to reshape the 1D array to the same shape as xx and yy\n",
    "    plt.contourf(xx, yy, Z, cmap=distinct_colour, alpha=0.4) # countourf is used to plot the contour of the grid\n",
    "    plt.scatter(X[:, 0], X[:, 1], c=y, cmap=distinct_colour) # scatter is used to plot the data points\n",
    "    plt.xlim(xx.min(), xx.max()) # xlim is used to set the x-axis limits\n",
    "    plt.ylim(yy.min(), yy.max()) # ylim is used to set the y-axis limits\n",
    "    plt.show()\n",
    "\n",
    "plot_decision_boundry(X, y, classifier)"
   ]
  },
  {
   "cell_type": "code",
   "execution_count": null,
   "metadata": {},
   "outputs": [],
   "source": []
  },
  {
   "cell_type": "code",
   "execution_count": null,
   "metadata": {},
   "outputs": [],
   "source": [
    "# ToDo:\n",
    "# 1. Implement SVM using SMO algorithm\n",
    "# 2. Implement SVM using SMO algorithm with kernel function\n",
    "# 3. Implement SVM using SMO algorithm with kernel function and non-linear constraint\n",
    "# 4. Implement SVM using SMO algorithm with kernel function and non-linear constraint and non-linear cost function\n",
    "\n",
    "\n",
    "def linear_kernel(x_1, x_2):\n",
    "    return np.dot(x_1, x_2)\n",
    "\n",
    "def polynomial_kernel(x_1, x_2, p_degree):\n",
    "    return (np.dot(x_1, x_2) + 1) ** p_degree\n",
    "\n",
    "def gaussian_kernel(x_1, x_2, sigma):\n",
    "    return np.exp(-np.linalg.norm(x_1 - x_2) ** 2 / (2 * sigma ** 2))\n",
    "\n",
    "class SVM(object):\n",
    "    def __init__(self, kernel_function, C, tolerance, max_passes):\n",
    "        self.kernel_function = kernel_function\n",
    "        self.C = C\n",
    "        self.tolerance = tolerance\n",
    "        self.max_passes = max_passes\n",
    "\n",
    "    def fit(self, x_data, y_data):\n",
    "        self.alpha, self.b = sequential_minimal_optimization(x_data, y_data, self.C, self.tolerance, self.max_passes)\n",
    "        self.support_vectors = []\n",
    "        self.support_vector_labels = []\n",
    "        for i in range(len(self.alpha)):\n",
    "            if self.alpha[i] > 0:\n",
    "                self.support_vectors.append(x_data[i])\n",
    "                self.support_vector_labels.append(y_data[i])\n",
    "        self.support_vector_labels = np.array(self.support_vector_labels)\n",
    "\n",
    "    def predict(self, x_data):\n",
    "        predictions = []\n",
    "        for x in x_data:\n",
    "            kernel_sum = 0\n",
    "            for i in range(len(self.alpha)):\n",
    "                kernel_sum += self.alpha[i] * self.support_vector_labels[i] * self.kernel_function(self.support_vectors[i], x)\n",
    "            predictions.append(kernel_sum + self.b)\n",
    "        return np.sign(predictions)\n",
    "\n",
    "\n",
    "\n",
    "def plot_decision_boundry(X, y, classifier):\n",
    "    x_min, x_max = X[:, 0].min() - 1, X[:, 0].max() + 1 # value 1 is added to avoid points on the boundary and x_min and x_max are the min and max values of x, plus X\n",
    "    y_min, y_max = X[:, 1].min() - 1, X[:, 1].max() + 1 # y_min and y_max are used to set the range of y axis\n",
    "    xx, yy = np.meshgrid(np.arange(x_min, x_max, 0.1), # meshgrid is used to create a grid of points\n",
    "                            np.arange(y_min, y_max, 0.1))  # x_min, x_max, y_min, y_max are the range of x and y\n",
    "    Z = classifier.predict(np.c_[xx.ravel(), yy.ravel()]) # xx.ravel() and yy.ravel() are used to flatten the grid because the grid is a 2D array and we need to convert it to a 1D array\n",
    "    Z = Z.reshape(xx.shape) # we need to reshape the 1D array to the same shape as xx and yy\n",
    "    plt.contourf(xx, yy, Z, cmap=distinct_colour, alpha=0.4) # countourf is used to plot the contour of the grid\n",
    "    plt.scatter(X[:, 0], X[:, 1], c=y, cmap=distinct_colour) # scatter is used to plot the data points\n",
    "    plt.xlim(xx.min(), xx.max()) # xlim is used to set the x-axis limits\n",
    "    plt.ylim(yy.min(), yy.max()) # ylim is used to set the y-axis limits\n",
    "    plt.show()\n"
   ]
  },
  {
   "cell_type": "code",
   "execution_count": null,
   "metadata": {},
   "outputs": [],
   "source": [
    "x_data, y_data  = make_circles(100, factor=.1, noise=.1)\n",
    "plt.scatter(x_data[:, 0], x_data[:, 1], c=y_data, s=50, cmap='bwr')\n",
    "x_train, x_test, y_train, y_test = train_test_split(x_data, y_data, test_size = 0.34, shuffle=True)\n",
    "svm = SVM(gaussian_kernel, 1, 0.001, 10)\n",
    "svm.fit(x_train, y_train)\n",
    "y_pred = svm.predict(x_test)\n",
    "print('Accuracy:', accuracy_score(y_test, y_pred))\n",
    "\n",
    "distinct_colour = ListedColormap(['#FFAAAA', '#AAFFAA']) # Red and Green colors for the points\n",
    "plot_decision_boundry(x_data, y_data, svm)\n"
   ]
  },
  {
   "cell_type": "code",
   "execution_count": 2,
   "metadata": {},
   "outputs": [],
   "source": [
    "import numpy as np\n",
    "import pandas as pd\n",
    "import matplotlib.pyplot as plt\n",
    "\n",
    "# def linear_kernel(x, z):\n",
    "#     return np.dot(x, z.T)\n",
    "\n",
    "# def polynomial_kernel(x, z, p=5):\n",
    "#     return (np.dot(x, z.T) + 1) ** p  # (x^T * z) + c where c is a constant\n",
    "\n",
    "# def guassian_kernel(x, z, sigma=.1):\n",
    "#     # e ^ (-||x - z||^2 / 2 * sigma^2) where ||x - z|| is L2 norm of difference between x and z\n",
    "#     return np.exp(-np.linalg.norm(x - z, axis=1)**2 / (2 * (sigma**2)))\n",
    "\n",
    "\n",
    "# def plot_decision_boundry(X, y, classifier):\n",
    "#     x_min, x_max = X[:, 0].min() - 1, X[:, 0].max() + 1 # value 1 is added to avoid points on the boundary and x_min and x_max are the min and max values of x, plus X\n",
    "#     y_min, y_max = X[:, 1].min() - 1, X[:, 1].max() + 1 # y_min and y_max are used to set the range of y axis\n",
    "#     xx, yy = np.meshgrid(np.arange(x_min, x_max, 0.1), # meshgrid is used to create a grid of points\n",
    "#                             np.arange(y_min, y_max, 0.1))  # x_min, x_max, y_min, y_max are the range of x and y\n",
    "#     Z = classifier.predict(np.c_[xx.ravel(), yy.ravel()]) # xx.ravel() and yy.ravel() are used to flatten the grid because the grid is a 2D array and we need to convert it to a 1D array\n",
    "#     Z = Z.reshape(xx.shape) # we need to reshape the 1D array to the same shape as xx and yy\n",
    "#     plt.contourf(xx, yy, Z, cmap=distinct_colour, alpha=0.4) # countourf is used to plot the contour of the grid\n",
    "#     plt.scatter(X[:, 0], X[:, 1], c=y, cmap=distinct_colour) # scatter is used to plot the data points\n",
    "#     plt.xlim(xx.min(), xx.max()) # xlim is used to set the x-axis limits\n",
    "#     plt.ylim(yy.min(), yy.max()) # ylim is used to set the y-axis limits\n",
    "#     plt.show()\n",
    "\n",
    "# ToDo:\n",
    "# 1. Implement SVM using SMO algorithm\n",
    " \n",
    "\n",
    "# ToDo:\n",
    "# Implementation of the Simplified SMO Algorithm\n",
    "# input X, y, C, tolerance, max_passes\n",
    "# output alphas, b - alphas: Lagrange multipliers, b: threshold\n",
    "\n",
    "\n",
    "class SVM(object):\n",
    "    def __init__(self, kernel, C, tolerance, max_passes, p_degree, sigma):\n",
    "        self.kernel = kernel # kernel function\n",
    "        self.C = C # C is the penalty parameter\n",
    "        self.tolerance = tolerance # tolerance is used to determine when to stop the algorithm\n",
    "        self.max_passes = max_passes # max_passes is the maximum number of passes through the dataset\n",
    "        self.p_degree = p_degree # polynomial kernel dimension\n",
    "        self.sigma = sigma # used for guassian kernel   \n",
    "        self.alphas = None # Lagrange multipliers\n",
    "        self.b = None   # threshold\n",
    "        self.errors = None  # number of errors in each pass\n",
    "\n",
    "\n",
    "    def linear(self, x, z): # x is a row vector, z is a column vector\n",
    "        return np.dot(x, z.T)\n",
    "    \n",
    "    def polynomial(self, x_i, z_j, p_degree): # p_degree is the degree of the polynomial\n",
    "        return (np.dot(x_i, z_j.T) + 1) ** p_degree\n",
    "\n",
    "    def guassian(self, x_i, z_j, sigma): # sigma is the standard deviation and sigma^2 is the variance\n",
    "        return np.exp(-np.linalg.norm(x_i - z_j, axis=1)**2 / (2 * (sigma**2)))\n",
    "\n",
    "    # ToDo: Implementation of the Simplified SMO Algorithm\n",
    "    # input:\n",
    "    # C: regularization parameter\n",
    "    # tolerance: tolerance for stopping criterion\n",
    "    # max_passes: maximum # of times to iterate over alpha without changing\n",
    "    # Output:\n",
    "    # alpha: Lagrange multipliers for solution\n",
    "    # b: threshold for solution\n",
    "    def sequential_minimal_optimization(self, x_data, label_data, C, tolerance, max_passes):\n",
    "        num_samples, num_features = x_data.shape\n",
    "\n",
    "        # initialize alpha, b, passes\n",
    "        alpha = np.zeros(num_samples)\n",
    "        b = 0\n",
    "        passes = 0\n",
    "        while (passes < max_passes):\n",
    "            num_changed_alphas = 0\n",
    "            for i in range(num_samples):\n",
    "                # set Error_i to the error for the ith training example\n",
    "                # f(x^(i)) = sum(alpha_i * y^(i) * K(x^(i), x)) + b\n",
    "                # Error_i = f(x^(i)) - y^(i)\n",
    "                f_x_i = np.sum(alpha * label_data * self.kernel(x_data, x_data[i, :])) + b # check this line\n",
    "                Error_i = f_x_i - label_data[i]\n",
    "                # if ((y^(i) * Error_i < -tolerance and alpha[i] < C) or (y^(i) * Error_i > tolerance and alpha[i] > 0)):\n",
    "                if ((label_data[i] * Error_i < -tolerance and alpha[i] < C) or (label_data[i] * Error_i > tolerance and alpha[i] > 0)):\n",
    "                    # Select j != i randomly\n",
    "                    j = i\n",
    "                    while (j == i):\n",
    "                        j = np.random.randint(num_samples)\n",
    "                    # set Error_j to the error for the jth training example\n",
    "                    # f(x^(j)) = sum(alpha_j * y^(j) * K(x^(j), x)) + b\n",
    "                    # Error_j = f(x^(j)) - y^(j)\n",
    "                    f_x_j = np.sum(alpha * label_data * self.kernel(x_data, x_data[j, :])) + b # check this line\n",
    "                    Error_j = f_x_j - label_data[j]\n",
    "                    # save old alpha_i, alpha_j\n",
    "                    alpha_i_old = alpha[i]\n",
    "                    alpha_j_old = alpha[j]\n",
    "                    # if (y^(i) != y^(j)):\n",
    "                    if (label_data[i] != label_data[j]):\n",
    "                        L = max(0, alpha[j] - alpha[i])\n",
    "                        H = min(C, C + alpha[j] - alpha[i])\n",
    "                    else:\n",
    "                        L = max(0, alpha[i] + alpha[j] - C)\n",
    "                        H = min(C, alpha[i] + alpha[j])\n",
    "                    if L == H:\n",
    "                        continue\n",
    "                    # Calculate eta = 2 * K(x^(i), x^(j)) - K(x^(i), x^(i)) - K(x^(j), x^(j))\n",
    "                    eta = 2 * self.kernel(x_data[i, :], x_data[j, :]) - self.kernel(x_data[i, :], x_data[i, :]) - self.kernel(x_data[j, :], x_data[j, :])\n",
    "                    if eta >= 0:\n",
    "                        continue\n",
    "                    # update alpha_j to satisfy: 0 <= alpha_j <= C\n",
    "                    # alpha_j = alpha_j - y^(j) * (Error_i - Error_j) / eta\n",
    "                    alpha[j] = alpha[j] - label_data[j] * (Error_i - Error_j) / eta\n",
    "                    # clip alpha_j if it's out of range\n",
    "                    if alpha[j] > H:\n",
    "                        alpha[j] = H\n",
    "                    if alpha[j] < L:\n",
    "                        alpha[j] = L\n",
    "                    if abs(alpha[j] - alpha_j_old) < 1e-5:\n",
    "                        continue\n",
    "                    # update alpha_i to satisfy: 0 <= alpha_i <= C - alpha_j\n",
    "                    # alpha_i = alpha_i + y^(i) * y^(j) * (alpha_j_old - alpha_j)\n",
    "                    alpha[i] = alpha[i] + label_data[i] * label_data[j] * (alpha_j_old - alpha[j])\n",
    "                    # update b to satisfy: Error_i - Error_j = b - Error_i - Error_j\n",
    "                    # b = b + y^(i) * (alpha_i_old - alpha_i) - y^(j) * (alpha_j_old - alpha_j)\n",
    "                    b1 = b - Error_i - label_data[i] * (alpha[i] - alpha_i_old) * self.kernel(x_data[i, :], x_data[i, :]) - label_data[j] * (alpha[j] - alpha_j_old) * self.kernel(x_data[i, :], x_data[j, :])\n",
    "                    b2 = b - Error_j - label_data[i] * (alpha[i] - alpha_i_old) * self.kernel(x_data[i, :], x_data[j, :]) - label_data[j] * (alpha[j] - alpha_j_old) * self.kernel(x_data[j, :], x_data[j, :])\n",
    "                    if 0 < alpha[i] and alpha[i] < C:\n",
    "                        b = b1\n",
    "                    elif 0 < alpha[j] and alpha[j] < C:\n",
    "                        b = b2\n",
    "                    else:\n",
    "                        b = (b1 + b2) / 2\n",
    "                    num_changed_alphas += 1\n",
    "            if num_changed_alphas == 0:\n",
    "                passes += 1\n",
    "            else:    \n",
    "                passes = 0\n",
    "        return alpha, b\n",
    "\n",
    "    def fit(self, x_data, label_data, C, tolerance, max_passes):\n",
    "        self.alpha, self.b = self.sequential_minimal_optimization(x_data, label_data, C, tolerance, max_passes)\n",
    "        self.w = np.dot(self.alpha * label_data, x_data)\n",
    "        \n",
    "        self.support_vectors = x_data[np.nonzero(self.alpha)[0]]\n",
    "        self.support_vector_labels = label_data[np.nonzero(self.alpha)[0]]\n",
    "        self.support_vector_alphas = self.alpha[np.nonzero(self.alpha)[0]]\n",
    "\n",
    "        self.b = self.b - np.sum(self.support_vector_alphas * self.support_vector_labels * self.kernel(self.support_vectors, x_data))\n",
    "\n",
    "    def predict(self, x_data):\n",
    "        return np.sign(np.dot(self.w, x_data) + self.b)\n",
    "    \n",
    "    def score(self, x_data, label_data):\n",
    "        return np.mean(self.predict(x_data) == label_data)\n",
    "\n",
    "    def get_params(self, deep=True):\n",
    "        return {'kernel': self.kernel, 'C': self.C, 'tolerance': self.tolerance, 'max_passes': self.max_passes}\n",
    "\n",
    "    def set_params(self, **parameters):\n",
    "        for parameter, value in parameters.items():\n",
    "            setattr(self, parameter, value)\n",
    "        return self\n",
    "\n",
    "    def __str__(self):\n",
    "        return 'SVM(kernel=%s, C=%s, tolerance=%s, max_passes=%s)' % (self.kernel, self.C, self.tolerance, self.max_passes)\n",
    "\n",
    "    def plot_decision_boundry(self, x_data, label_data):\n",
    "        x_min, x_max = x_data[:, 0].min() - 1, x_data[:, 0].max() + 1\n",
    "        y_min, y_max = x_data[:, 1].min() - 1, x_data[:, 1].max() + 1\n",
    "        xx, yy = np.meshgrid(np.arange(x_min, x_max, 0.1), np.arange(y_min, y_max, 0.1))\n",
    "        grid_points = np.c_[xx.ravel(), yy.ravel()]\n",
    "        grid_labels = self.predict(grid_points)\n",
    "        grid_labels = grid_labels.reshape(xx.shape)\n",
    "        plt.contourf(xx, yy, grid_labels, cmap=plt.cm.Paired, alpha=0.8)\n",
    "        plt.scatter(x_data[:, 0], x_data[:, 1], c=label_data, cmap=plt.cm.Paired)\n",
    "        plt.xlabel('X1')\n",
    "        plt.ylabel('X2')\n",
    "        plt.show()\n"
   ]
  },
  {
   "cell_type": "code",
   "execution_count": null,
   "metadata": {},
   "outputs": [],
   "source": [
    "data = pd.read_csv(\"./d1.csv\")\n",
    "X = data.iloc[:, :-1]\n",
    "y = data.iloc[:, -1]\n",
    "\n",
    "# Initalize the SVM\n",
    "\n",
    "svm = SVM(gaussian, \n",
    "svm.fit(X, y)\n",
    "y_pred = svm.predict(X)"
   ]
  }
 ],
 "metadata": {
  "interpreter": {
   "hash": "74e8ec9c84b340f4de24eed72001e08faf7103697f715d0f05647d14de0826d0"
  },
  "kernelspec": {
   "display_name": "Python 3.9.7 64-bit ('RT-Academy': conda)",
   "language": "python",
   "name": "python3"
  },
  "language_info": {
   "codemirror_mode": {
    "name": "ipython",
    "version": 3
   },
   "file_extension": ".py",
   "mimetype": "text/x-python",
   "name": "python",
   "nbconvert_exporter": "python",
   "pygments_lexer": "ipython3",
   "version": "3.9.7"
  },
  "orig_nbformat": 4
 },
 "nbformat": 4,
 "nbformat_minor": 2
}
