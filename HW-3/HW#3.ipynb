{
 "cells": [
  {
   "cell_type": "code",
   "execution_count": 15,
   "metadata": {},
   "outputs": [
    {
     "data": {
      "text/plain": [
       "<matplotlib.collections.PathCollection at 0x1690427f190>"
      ]
     },
     "execution_count": 15,
     "metadata": {},
     "output_type": "execute_result"
    },
    {
     "data": {
      "image/png": "[encoded data removed]",
      "text/plain": [
       "<Figure size 432x288 with 1 Axes>"
      ]
     },
     "metadata": {
      "needs_background": "light"
     },
     "output_type": "display_data"
    }
   ],
   "source": [
    "import numpy as np\n",
    "import pandas as pd\n",
    "import seaborn as sns\n",
    "import matplotlib.pyplot as plt\n",
    "\n",
    "x = np.linspace(-5.0, 5.0, 100)\n",
    "y = np.sqrt(10**2 - x**2)\n",
    "\n",
    "y = np.hstack((y, -y))\n",
    "x = np.hstack((x, x))\n",
    "\n",
    "x_1 = np.linspace(-5.0, 5.0, 100)\n",
    "y_1 = np.sqrt(5**2 - x_1**2)\n",
    "y_1 = np.hstack([y_1, -y_1])\n",
    "x_1 = np.hstack([x_1, x_1])\n",
    "\n",
    "plt.figure(figsize=(10, 10))\n",
    "plt.scatter(y, x, color='red', label='y = sqrt(10^2 - x^2)')\n",
    "plt.scatter(y_1, x_1, color='blue', label='y = sqrt(5^2 - x^2)')\n",
    "\n",
    "plt.figure(figsize=(10, 10))\n",
    "plt.scatter(x, y, color='red', label='y = sqrt(10^2 - x^2)')\n",
    "plt.scatter(x_1, y_1, color='blue', label='y = sqrt(5^2 - x^2)')"
   ]
  },
  {
   "cell_type": "code",
   "execution_count": null,
   "metadata": {},
   "outputs": [],
   "source": [
    "# Support Vector Machine - Optimal Margin Calssifier\n",
    "import numpy as np\n",
    "import cvxopt\n",
    "from utils import *\n",
    "from sklearn.svm import SVC\n",
    "\n",
    "def linear_kernel(x, z):\n",
    "    return np.dot(x, z.T)\n",
    "\n",
    "def polynomial_kernel(x, z, p=5):\n",
    "    return (1 + np.dot(x, z.T))**p\n",
    "\n",
    "\n",
    "def guassian_kernel(x, z, sigma=.1):\n",
    "    return np.exp(-np.linalg.norm(x - z, axis=1)**2 / (2 * (sigma**2)))\n",
    "\n",
    "class SVM():\n",
    "    def __init__(self, kernel=guassian_kernel, C=1):\n",
    "        self.kernel = kernel\n",
    "        self.C = C\n",
    "        \n",
    "    def fit(self, X, y):\n",
    "        self.X = X\n",
    "        self.y = y\n",
    "        m_samples, n_features = X.shape\n",
    "        # calculate the kernel matrix\n",
    "        self.K = np.zeros((m_samples, m_samples))\n",
    "\n",
    "        for i in range(m_samples):\n",
    "            self.K[i, :] = self.kernel(X[i, np.newaxis], self.X)\n",
    "        \n",
    "        P = cvxopt.matrix(np.outer(y, y) * self.K)\n",
    "        q = cvxopt.matrix(-np.ones((m_samples, 1)))\n",
    "        G = cvxopt.matrix(np.vstack((np.eye(m_samples) * -1, np.eye(m_samples))))\n",
    "        h = cvxopt.matrix(np.hstack((np.zeros(m_samples), np.ones(m_samples) * self.C)))\n",
    "        A = cvxopt.matrix(y, (1, m_samples), \"d\")\n",
    "        b = cvxopt.matrix(np.zeros(1))\n",
    "        cvxopt.solvers.options['show_progress'] = False\n",
    "        sol = cvxopt.solvers.qp(P, q, G, h, A, b)\n",
    "        self.alphas = np.array(sol['x'])\n",
    "\n",
    "    def predict(self, X):\n",
    "        y_predict = np.zeros((X.shape[0]))\n",
    "        sv = self.get_params(self.alphas)\n",
    "\n",
    "        for i in range(X.shape[0]):\n",
    "            y_predict[i] = np.sum(\n",
    "                self.alphas[sv]\n",
    "                 * self.y[sv, np.newaxis]\n",
    "                 * self.kernel(X[i], self.X[sv])[:, np.newaxis]\n",
    "                 )\n",
    "        return np.sign(y_predict + self.b)\n",
    "\n",
    "    def get_params(self, alphas):\n",
    "        threshold = 1e-4\n",
    "        sv = ((alphas > threshold) * (alphas < self.C)).flatten()\n",
    "        self.w = np.dot(self.X[sv].T, alphas[sv]*self.y[sv, np.newaxis])\n",
    "        self.b = np.mean(self.y[sv, np.newaxis] - self.alphas[sv] * self.y[sv, np.newaxis] * self.K[sv, sv][:, np.newaxis])\n",
    "        return sv\n",
    "        \n",
    "\n",
    "if __name__ == '__main__':\n",
    "    # np.random.seed(1)\n",
    "    X, y = create_dataset(N=50)\n",
    "    svm = SVM(kernel=guassian_kernel)\n",
    "    svm.fit(X, y)\n",
    "    y_pred = svm.predict(X)\n",
    "    print('Accuracy: %.2f' % (np.mean(y_pred == y) * 100))\n",
    "    plot_contour(X, y, svm)\n",
    "\n",
    "    # SVM with SKLearn gussian kernel\n",
    "    clf = SVC(C=10, kernel='rbf', gamma=10)\n",
    "    clf.fit(X, y)\n",
    "    y_pred = clf.predict(X)\n",
    "    print('Accuracy: %.2f' % (np.mean(y_pred == y) * 100))\n",
    "    plot_contour(X, y, clf)\n"
   ]
  },
  {
   "cell_type": "code",
   "execution_count": null,
   "metadata": {},
   "outputs": [],
   "source": [
    "# ToDo\n",
    "# PART A: implement SVM\n",
    "# test it on 'd1.csv'\n",
    "# plot decision boundry including data\n",
    "# Change C in range [0.1 - 1 - 10 - 100] and analyize output\n",
    "# consider tolerance=0.001, max_passes=5\n"
   ]
  },
  {
   "cell_type": "code",
   "execution_count": null,
   "metadata": {},
   "outputs": [],
   "source": [
    "# ToDo\n",
    "# PART B: Implement Guassian Kernel\n",
    "# Output shoud be approximatly as '324652.0'\n",
    "# Consider x_1=[1;2;1], x_2=[0;4;-1], sigma=2.0"
   ]
  },
  {
   "cell_type": "code",
   "execution_count": null,
   "metadata": {},
   "outputs": [],
   "source": [
    "# ToDo:\n",
    "# Part C: Test algorithm on 'd2.csv'\n",
    "# Plot decision boundry"
   ]
  },
  {
   "cell_type": "code",
   "execution_count": null,
   "metadata": {},
   "outputs": [],
   "source": [
    "# ToDo:\n",
    "# Part D: Test algorithm on 'd3.csv'\n",
    "# Change C and sigma in range [0.001, 0.03, 0.1, 0.3, 1, 3, 10, 100]\n",
    "# by considering accuracy get best parameters by tuning with validation data ('d3-validation.csv')"
   ]
  },
  {
   "cell_type": "code",
   "execution_count": null,
   "metadata": {},
   "outputs": [],
   "source": [
    "# ToDo:\n",
    "# Part E:\n",
    "# plot decision boundry for train data\n",
    "# plot decision boundry for validation data"
   ]
  }
 ],
 "metadata": {
  "interpreter": {
   "hash": "74e8ec9c84b340f4de24eed72001e08faf7103697f715d0f05647d14de0826d0"
  },
  "kernelspec": {
   "display_name": "Python 3.9.7 64-bit ('RT-Academy': conda)",
   "language": "python",
   "name": "python3"
  },
  "language_info": {
   "codemirror_mode": {
    "name": "ipython",
    "version": 3
   },
   "file_extension": ".py",
   "mimetype": "text/x-python",
   "name": "python",
   "nbconvert_exporter": "python",
   "pygments_lexer": "ipython3",
   "version": "3.9.7"
  },
  "orig_nbformat": 4
 },
 "nbformat": 4,
 "nbformat_minor": 2
}
