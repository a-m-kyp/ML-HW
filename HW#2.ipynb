{
 "cells": [
  {
   "cell_type": "code",
   "execution_count": null,
   "metadata": {},
   "outputs": [],
   "source": [
    "import numpy as np\n",
    "import pandas as pd\n",
    "import math\n",
    "import "
   ]
  },
  {
   "cell_type": "code",
   "execution_count": null,
   "metadata": {},
   "outputs": [],
   "source": [
    "def load() -> pd.DataFrame:\n",
    "    \"\"\"Loading dataset\n",
    "    @return: dataset\n",
    "    \"\"\"\n",
    "    dataset = pd.read_csv('data_set.csv')\n",
    "    # dataset = dataset.fillna(\"[NULL]\")\n",
    "    dataset = dataset.fillna(method='bfill')\n",
    "\n",
    "    # dataset = dataset.fillna(method='bfill')\n",
    "    dataset.drop('test_date', 1, inplace=True)\n",
    "    return dataset\n",
    "\n",
    "def copy_df(df) -> pd.DataFrame:\n",
    "    \"\"\"copy df to new temp df\n",
    "    @param df: user input dataset\n",
    "    @return: new df\n",
    "    \"\"\"\n",
    "    return df.copy()\n",
    "\n",
    "def print_dataset(dataset) -> None:\n",
    "    \"\"\"print dataset inforamtion\n",
    "    @param dataset: user input dataset\n",
    "    @return: print dataset information via head(), info(), shape()\n",
    "    \"\"\"\n",
    "    print(dataset.head())\n",
    "    print(dataset.info())\n",
    "    print(dataset.describe())\n",
    "    print(dataset.columns)\n",
    "    print(dataset.iloc[:, -1:].value_counts())\n",
    "\n",
    "dataset = load()\n"
   ]
  },
  {
   "cell_type": "code",
   "execution_count": null,
   "metadata": {},
   "outputs": [],
   "source": [
    "def k_fold_train_test_split(data, k_fold_number):\n",
    "    \"\"\"\n",
    "    Splits data into k folds and returns the training and testing sets for each fold.\n",
    "    \"\"\"\n",
    "    x_train = []\n",
    "    x_test = []\n",
    "    y_train = []\n",
    "    y_test = []\n",
    "    for i in range(k_fold_number):\n",
    "        temp_train = data.iloc[int(len(data) / k_fold_number * i):int(len(data) / k_fold_number * (i + 1)), :]\n",
    "        temp_test = data.iloc[int(len(data) / k_fold_number * (i + 1)):int(len(data) / k_fold_number * (i + 2)), :]\n",
    "        x_train.append(temp_train.drop(['result'], axis=1))\n",
    "        x_test.append(temp_test.drop(['result'], axis=1))\n",
    "        y_train.append(temp_train['result'])\n",
    "        y_test.append(temp_test['result'])\n",
    "    return x_train, x_test, y_train, y_test\n",
    "\n",
    "\n"
   ]
  }
 ],
 "metadata": {
  "language_info": {
   "name": "python"
  },
  "orig_nbformat": 4
 },
 "nbformat": 4,
 "nbformat_minor": 2
}
